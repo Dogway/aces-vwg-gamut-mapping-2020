{
  "nbformat": 4,
  "nbformat_minor": 0,
  "metadata": {
    "colab": {
      "name": "mitsuba_images_processing.ipynb",
      "provenance": [],
      "collapsed_sections": [],
      "machine_shape": "hm"
    },
    "kernelspec": {
      "name": "python3",
      "display_name": "Python 3"
    }
  },
  "cells": [
    {
      "cell_type": "markdown",
      "metadata": {
        "id": "pHpCakGpLdcU",
        "colab_type": "text"
      },
      "source": [
        "# Mitsuba Image Processing"
      ]
    },
    {
      "cell_type": "markdown",
      "metadata": {
        "id": "-Gpr26VhLiHO",
        "colab_type": "text"
      },
      "source": [
        "An exploratory notebook about Mitsuba image processing.\n",
        "\n",
        "A companion Google Colab Notebook for spectral image rendering is available at this [url](https://colab.research.google.com/drive/1Z0BE49o9cbr7235kDs4VKijNwJl8jZsj).\n",
        "\n",
        "The final images are hosted at this [url](https://academy-vwg-gm-mitsuba-spectral-images.imfast.io).\n",
        "\n",
        "More information is available on [ACEScentral](https://acescentral.com/c/aces-development-acesnext/vwg-aces-gamut-mapping-working-group/).\n",
        "\n",
        "*TODO*:\n",
        "\n",
        "*"
      ]
    },
    {
      "cell_type": "code",
      "metadata": {
        "id": "sf3UYPdk8BPB",
        "colab_type": "code",
        "cellView": "form",
        "colab": {}
      },
      "source": [
        "#@title Global Parameters\n",
        "\n",
        "ILLUMINANT = 'Daylight FL' #@param ['3-LED-1 (457/540/605)', '3-LED-2 (473/545/616)', '3-LED-2 Yellow', '3-LED-3 (465/546/614)', '3-LED-4 (455/547/623)', '4-LED No Yellow', '4-LED Yellow', '4-LED-1 (461/526/576/624)', '4-LED-2 (447/512/573/627)', '60 A/W (Soft White)', 'A', 'B', 'C', 'C100S54 (HPS)', 'C100S54C (HPS)', 'Cool White FL', 'D50', 'D55', 'D60', 'D65', 'D75', 'Daylight FL', 'E', 'F32T8/TL830 (Triphosphor)', 'F32T8/TL835 (Triphosphor)', 'F32T8/TL841 (Triphosphor)', 'F32T8/TL850 (Triphosphor)', 'F32T8/TL865 /PLUS (Triphosphor)', 'F34/CW/RS/EW (Cool White FL)', 'F34T12/LW/RS /EW', 'F34T12WW/RS /EW (Warm White FL)', 'F40/C50 (Broadband FL)', 'F40/C75 (Broadband FL)', 'F40/CWX (Broadband FL)', 'F40/DX (Broadband FL)', 'F40/DXTP (Delux FL)', 'F40/N (Natural FL)', 'FL1', 'FL10', 'FL11', 'FL12', 'FL2', 'FL3', 'FL3.1', 'FL3.10', 'FL3.11', 'FL3.12', 'FL3.13', 'FL3.14', 'FL3.15', 'FL3.2', 'FL3.3', 'FL3.4', 'FL3.5', 'FL3.6', 'FL3.7', 'FL3.8', 'FL3.9', 'FL4', 'FL5', 'FL6', 'FL7', 'FL8', 'FL9', 'H38HT-100 (Mercury)', 'H38JA-100/DX (Mercury DX)', 'HP1', 'HP2', 'HP3', 'HP4', 'HP5', 'HPS', 'ID50', 'ID65', 'Incandescent', 'Kinoton 75P', 'LED-B1', 'LED-B2', 'LED-B3', 'LED-B4', 'LED-B5', 'LED-BH1', 'LED-RGB1', 'LED-V1', 'LED-V2', 'LPS', 'Luxeon WW 2880', 'MHC100/U/MP /3K', 'MHC100/U/MP /4K', 'Mercury', 'Metal Halide', 'Natural', 'Neodimium Incandescent', 'PHOS-1', 'PHOS-2', 'PHOS-3', 'PHOS-4', 'Philips TL-84', 'Phosphor LED YAG', 'SA', 'SC', 'SDW-T 100W/LV (Super HPS)', 'Super HPS', 'T8 Luxline Plus White', 'T8 Polylux 3000', 'T8 Polylux 4000', 'Thorn Kolor-rite', 'Triphosphor FL']"
      ],
      "execution_count": 0,
      "outputs": []
    },
    {
      "cell_type": "markdown",
      "metadata": {
        "id": "LkS4FMDOV6sI",
        "colab_type": "text"
      },
      "source": [
        "## Google Drive"
      ]
    },
    {
      "cell_type": "code",
      "metadata": {
        "id": "BwoZdf6Aw1w5",
        "colab_type": "code",
        "outputId": "f1e363b5-386a-4041-deae-3c084c2be58a",
        "colab": {
          "base_uri": "https://localhost:8080/",
          "height": 34
        }
      },
      "source": [
        "from google.colab import drive\n",
        "drive.mount('/content/drive')"
      ],
      "execution_count": 0,
      "outputs": [
        {
          "output_type": "stream",
          "text": [
            "Drive already mounted at /content/drive; to attempt to forcibly remount, call drive.mount(\"/content/drive\", force_remount=True).\n"
          ],
          "name": "stdout"
        }
      ]
    },
    {
      "cell_type": "code",
      "metadata": {
        "id": "wxgCgFuXxJGy",
        "colab_type": "code",
        "colab": {}
      },
      "source": [
        "OUTPUT_DIRECTORY = '/content/drive/My Drive/Fast.io/academy-vwg-gm-mitsuba-spectral-images.imfast.io'"
      ],
      "execution_count": 0,
      "outputs": []
    },
    {
      "cell_type": "markdown",
      "metadata": {
        "id": "R7GYrUbfUKQZ",
        "colab_type": "text"
      },
      "source": [
        "## colour-science Requirements"
      ]
    },
    {
      "cell_type": "code",
      "metadata": {
        "id": "8HNVkiHyoITP",
        "colab_type": "code",
        "outputId": "fffd20e5-8c5b-4b38-b608-9326d341bd73",
        "colab": {
          "base_uri": "https://localhost:8080/",
          "height": 462
        }
      },
      "source": [
        "!pip install colour-datasets\n",
        "\n",
        "!python -c \"import imageio;imageio.plugins.freeimage.download()\"\n",
        "\n",
        "!pip uninstall -y colour-science\n",
        "!if [ -d \"colour\" ]; then rm -rf colour; fi\n",
        "!if ! [ -d \"colour\" ]; then git clone https://github.com/colour-science/colour; fi\n",
        "!if [ -d \"colour\" ]; then cd colour && git fetch && git checkout feature/idt && git pull && cd ..; fi\n",
        "\n",
        "import sys\n",
        "sys.path.append('colour')\n",
        "\n",
        "!mkdir -p /content/downloads"
      ],
      "execution_count": 0,
      "outputs": [
        {
          "output_type": "stream",
          "text": [
            "Requirement already satisfied: colour-datasets in /usr/local/lib/python3.6/dist-packages (0.1.0)\n",
            "Collecting colour-science<0.4.0,>=0.3.14\n",
            "  Using cached https://files.pythonhosted.org/packages/2e/b8/a25564da5f41a2d349afb3e95f8c5d7007231450bacf433a92301b073070/colour_science-0.3.15-py2.py3-none-any.whl\n",
            "Requirement already satisfied: xlrd in /usr/local/lib/python3.6/dist-packages (from colour-datasets) (1.1.0)\n",
            "Requirement already satisfied: cachetools in /usr/local/lib/python3.6/dist-packages (from colour-datasets) (3.1.1)\n",
            "Requirement already satisfied: tqdm in /usr/local/lib/python3.6/dist-packages (from colour-datasets) (4.38.0)\n",
            "Requirement already satisfied: imageio in /usr/local/lib/python3.6/dist-packages (from colour-science<0.4.0,>=0.3.14->colour-datasets) (2.4.1)\n",
            "Requirement already satisfied: six in /usr/local/lib/python3.6/dist-packages (from colour-science<0.4.0,>=0.3.14->colour-datasets) (1.12.0)\n",
            "Requirement already satisfied: scipy in /usr/local/lib/python3.6/dist-packages (from colour-science<0.4.0,>=0.3.14->colour-datasets) (1.4.1)\n",
            "Requirement already satisfied: numpy in /usr/local/lib/python3.6/dist-packages (from imageio->colour-science<0.4.0,>=0.3.14->colour-datasets) (1.18.2)\n",
            "Requirement already satisfied: pillow in /usr/local/lib/python3.6/dist-packages (from imageio->colour-science<0.4.0,>=0.3.14->colour-datasets) (7.0.0)\n",
            "Installing collected packages: colour-science\n",
            "Successfully installed colour-science-0.3.15\n",
            "Uninstalling colour-science-0.3.15:\n",
            "  Successfully uninstalled colour-science-0.3.15\n",
            "Cloning into 'colour'...\n",
            "remote: Enumerating objects: 49, done.\u001b[K\n",
            "remote: Counting objects: 100% (49/49), done.\u001b[K\n",
            "remote: Compressing objects: 100% (35/35), done.\u001b[K\n",
            "remote: Total 41769 (delta 17), reused 32 (delta 14), pack-reused 41720\u001b[K\n",
            "Receiving objects: 100% (41769/41769), 109.27 MiB | 37.61 MiB/s, done.\n",
            "Resolving deltas: 100% (31821/31821), done.\n",
            "Branch 'feature/idt' set up to track remote branch 'feature/idt' from 'origin'.\n",
            "Switched to a new branch 'feature/idt'\n",
            "Already up to date.\n"
          ],
          "name": "stdout"
        }
      ]
    },
    {
      "cell_type": "code",
      "metadata": {
        "id": "IkdwsUvzob6h",
        "colab_type": "code",
        "outputId": "e250fd40-c2f0-4f0f-90b3-f31593943fc5",
        "colab": {
          "base_uri": "https://localhost:8080/",
          "height": 357
        }
      },
      "source": [
        "import colour\n",
        "import colour_datasets\n",
        "import colour.plotting\n",
        "import glob\n",
        "import matplotlib.pyplot as plt\n",
        "import numpy as np\n",
        "import os\n",
        "import re\n",
        "import textwrap\n",
        "from IPython.display import HTML, display\n",
        "from copy import deepcopy\n",
        "\n",
        "colour.plotting.colour_style()\n",
        "\n",
        "plt.style.use({'figure.figsize': (19.20, 10.80)})\n",
        "\n",
        "colour.utilities.describe_environment();"
      ],
      "execution_count": 0,
      "outputs": [
        {
          "output_type": "stream",
          "text": [
            "===============================================================================\n",
            "*                                                                             *\n",
            "*   Interpreter :                                                             *\n",
            "*       python : 3.6.9 (default, Nov  7 2019, 10:44:02)                       *\n",
            "*                [GCC 8.3.0]                                                  *\n",
            "*                                                                             *\n",
            "*   colour-science.org :                                                      *\n",
            "*       colour : v0.3.15-68-ge2cab159                                         *\n",
            "*       colour-datasets : 0.1.0                                               *\n",
            "*                                                                             *\n",
            "*   Runtime :                                                                 *\n",
            "*       imageio : 2.4.1                                                       *\n",
            "*       matplotlib : 3.2.1                                                    *\n",
            "*       networkx : 2.4                                                        *\n",
            "*       numpy : 1.18.2                                                        *\n",
            "*       pandas : 1.0.3                                                        *\n",
            "*       scipy : 1.4.1                                                         *\n",
            "*       six : 1.12.0                                                          *\n",
            "*                                                                             *\n",
            "===============================================================================\n"
          ],
          "name": "stdout"
        }
      ]
    },
    {
      "cell_type": "markdown",
      "metadata": {
        "id": "--PkkRRBCqhl",
        "colab_type": "text"
      },
      "source": [
        "## Utility Objects"
      ]
    },
    {
      "cell_type": "code",
      "metadata": {
        "id": "8MXUn8YdCqFl",
        "colab_type": "code",
        "colab": {}
      },
      "source": [
        "def slugify(a):\n",
        "    return re.sub(r'\\s|-|\\.', '_',\n",
        "                  re.sub(r'(?u)[^-\\w.]', ' ',\n",
        "                         str(a).strip()).strip())\n",
        "\n",
        "\n",
        "def html_format_matrix(M, precision=10):\n",
        "    M = np.atleast_2d(colour.utilities.as_float_array(M))\n",
        "\n",
        "    html = '<table class=\"matrix-table\">'\n",
        "    shape = M.shape\n",
        "    for i in range(shape[0]):\n",
        "        html += '<tr class=\"matrix-row\">'\n",
        "        for j in range(shape[1]):\n",
        "            v = M[i][j]\n",
        "            pretty = '{{: 0.{}f}}'.format(precision).format(\n",
        "                v) if precision is not None else v\n",
        "            html += '<td class=\"matrix-column\">{0}</td>'.format(pretty)\n",
        "        html += '</tr>'\n",
        "    html += '</table>'\n",
        "\n",
        "    return html\n",
        "\n",
        "\n",
        "def set_css_in_cell_output():\n",
        "  display(HTML(\n",
        "\"\"\"\n",
        "<style>\n",
        "    body {\n",
        "        background-color: white !important;\n",
        "    }\n",
        "\n",
        "    .table, .matrix-table {\n",
        "        width: 100%\n",
        "    }\n",
        "\n",
        "    .table-row-header, .table-data-header {\n",
        "        background-color: #aaa !important;\n",
        "        color: #fff !important;\n",
        "        font-weight: bold !important;\n",
        "        text-align: center\n",
        "    }\n",
        "\n",
        "    .vertical-align-top {\n",
        "        vertical-align: top\n",
        "    }\n",
        "\n",
        "    .text-align-center {\n",
        "        text-align: center\n",
        "    }\n",
        "\n",
        "    .table-row-odd {\n",
        "        background-color: #eee !important;\n",
        "    }\n",
        "\n",
        "    .matrix-table, .matrix-row, .matrix-column {\n",
        "        border: none\n",
        "        text-align: center\n",
        "    }\n",
        "\n",
        "    .table, .table-canton, .table-row-header-group, .table-row-header, .table-data-header, .table-row, .table-data {\n",
        "        border-color: #fff\n",
        "    }\n",
        "</style>\n",
        "\"\"\"))\n",
        "\n",
        "\n",
        "get_ipython().events.register('pre_run_cell', set_css_in_cell_output)"
      ],
      "execution_count": 0,
      "outputs": []
    },
    {
      "cell_type": "markdown",
      "metadata": {
        "id": "mcB-qJ4n8aZR",
        "colab_type": "text"
      },
      "source": [
        "## Emitters Datasets"
      ]
    },
    {
      "cell_type": "code",
      "metadata": {
        "id": "LmCFq2YC8brb",
        "colab_type": "code",
        "outputId": "b4c8566c-d5e7-47bd-9fa9-cca2bf8d81d7",
        "colab": {
          "base_uri": "https://localhost:8080/",
          "height": 54
        }
      },
      "source": [
        "EMITTER_DATABASE = deepcopy(colour.ILLUMINANT_SDS)\n",
        "EMITTER_DATABASE.update(colour.LIGHT_SOURCE_SDS)\n",
        "\n",
        "EMITTER_NAMES = sorted(EMITTER_DATABASE.keys())\n",
        "\n",
        "print(EMITTER_NAMES)"
      ],
      "execution_count": 0,
      "outputs": [
        {
          "output_type": "display_data",
          "data": {
            "text/html": [
              "\n",
              "<style>\n",
              "    body {\n",
              "        background-color: white !important;\n",
              "    }\n",
              "\n",
              "    .table, .matrix-table {\n",
              "        width: 100%\n",
              "    }\n",
              "\n",
              "    .table-row-header, .table-data-header {\n",
              "        background-color: #aaa !important;\n",
              "        color: #fff !important;\n",
              "        font-weight: bold !important;\n",
              "        text-align: center\n",
              "    }\n",
              "\n",
              "    .vertical-align-top {\n",
              "        vertical-align: top\n",
              "    }\n",
              "\n",
              "    .text-align-center {\n",
              "        text-align: center\n",
              "    }\n",
              "\n",
              "    .table-row-odd {\n",
              "        background-color: #eee !important;\n",
              "    }\n",
              "\n",
              "    .matrix-table, .matrix-row, .matrix-column {\n",
              "        border: none\n",
              "        text-align: center\n",
              "    }\n",
              "\n",
              "    .table, .table-canton, .table-row-header-group, .table-row-header, .table-data-header, .table-row, .table-data {\n",
              "        border-color: #fff\n",
              "    }\n",
              "</style>\n"
            ],
            "text/plain": [
              "<IPython.core.display.HTML object>"
            ]
          },
          "metadata": {
            "tags": []
          }
        },
        {
          "output_type": "stream",
          "text": [
            "['3-LED-1 (457/540/605)', '3-LED-2 (473/545/616)', '3-LED-2 Yellow', '3-LED-3 (465/546/614)', '3-LED-4 (455/547/623)', '4-LED No Yellow', '4-LED Yellow', '4-LED-1 (461/526/576/624)', '4-LED-2 (447/512/573/627)', '60 A/W (Soft White)', 'A', 'B', 'C', 'C100S54 (HPS)', 'C100S54C (HPS)', 'Cool White FL', 'D50', 'D55', 'D60', 'D65', 'D75', 'Daylight FL', 'E', 'F32T8/TL830 (Triphosphor)', 'F32T8/TL835 (Triphosphor)', 'F32T8/TL841 (Triphosphor)', 'F32T8/TL850 (Triphosphor)', 'F32T8/TL865 /PLUS (Triphosphor)', 'F34/CW/RS/EW (Cool White FL)', 'F34T12/LW/RS /EW', 'F34T12WW/RS /EW (Warm White FL)', 'F40/C50 (Broadband FL)', 'F40/C75 (Broadband FL)', 'F40/CWX (Broadband FL)', 'F40/DX (Broadband FL)', 'F40/DXTP (Delux FL)', 'F40/N (Natural FL)', 'FL1', 'FL10', 'FL11', 'FL12', 'FL2', 'FL3', 'FL3.1', 'FL3.10', 'FL3.11', 'FL3.12', 'FL3.13', 'FL3.14', 'FL3.15', 'FL3.2', 'FL3.3', 'FL3.4', 'FL3.5', 'FL3.6', 'FL3.7', 'FL3.8', 'FL3.9', 'FL4', 'FL5', 'FL6', 'FL7', 'FL8', 'FL9', 'H38HT-100 (Mercury)', 'H38JA-100/DX (Mercury DX)', 'HP1', 'HP2', 'HP3', 'HP4', 'HP5', 'HPS', 'ID50', 'ID65', 'ISO 7589 Photoflood', 'ISO 7589 Photographic Daylight', 'ISO 7589 Sensitometric Daylight', 'ISO 7589 Sensitometric Photoflood', 'ISO 7589 Sensitometric Printer', 'ISO 7589 Sensitometric Studio Tungsten', 'ISO 7589 Studio Tungsten', 'Incandescent', 'Kinoton 75P', 'LED-B1', 'LED-B2', 'LED-B3', 'LED-B4', 'LED-B5', 'LED-BH1', 'LED-RGB1', 'LED-V1', 'LED-V2', 'LPS', 'Luxeon WW 2880', 'MHC100/U/MP /3K', 'MHC100/U/MP /4K', 'Mercury', 'Metal Halide', 'Natural', 'Neodimium Incandescent', 'PHOS-1', 'PHOS-2', 'PHOS-3', 'PHOS-4', 'Philips TL-84', 'Phosphor LED YAG', 'SA', 'SC', 'SDW-T 100W/LV (Super HPS)', 'Super HPS', 'T8 Luxline Plus White', 'T8 Polylux 3000', 'T8 Polylux 4000', 'Thorn Kolor-rite', 'Triphosphor FL']\n"
          ],
          "name": "stdout"
        }
      ]
    },
    {
      "cell_type": "markdown",
      "metadata": {
        "id": "ODRcL1wrVWpr",
        "colab_type": "text"
      },
      "source": [
        "## Cameras Sensitivites Datasets"
      ]
    },
    {
      "cell_type": "code",
      "metadata": {
        "id": "TqqTE8w9qqu6",
        "colab_type": "code",
        "outputId": "3fc89a19-521f-4d00-edbd-f8e48600fa3a",
        "colab": {
          "base_uri": "https://localhost:8080/",
          "height": 459
        }
      },
      "source": [
        "print(colour_datasets.datasets())"
      ],
      "execution_count": 0,
      "outputs": [
        {
          "output_type": "display_data",
          "data": {
            "text/html": [
              "\n",
              "<style>\n",
              "    body {\n",
              "        background-color: white !important;\n",
              "    }\n",
              "\n",
              "    .table, .matrix-table {\n",
              "        width: 100%\n",
              "    }\n",
              "\n",
              "    .table-row-header, .table-data-header {\n",
              "        background-color: #aaa !important;\n",
              "        color: #fff !important;\n",
              "        font-weight: bold !important;\n",
              "        text-align: center\n",
              "    }\n",
              "\n",
              "    .vertical-align-top {\n",
              "        vertical-align: top\n",
              "    }\n",
              "\n",
              "    .text-align-center {\n",
              "        text-align: center\n",
              "    }\n",
              "\n",
              "    .table-row-odd {\n",
              "        background-color: #eee !important;\n",
              "    }\n",
              "\n",
              "    .matrix-table, .matrix-row, .matrix-column {\n",
              "        border: none\n",
              "        text-align: center\n",
              "    }\n",
              "\n",
              "    .table, .table-canton, .table-row-header-group, .table-row-header, .table-data-header, .table-row, .table-data {\n",
              "        border-color: #fff\n",
              "    }\n",
              "</style>\n"
            ],
            "text/plain": [
              "<IPython.core.display.HTML object>"
            ]
          },
          "metadata": {
            "tags": []
          }
        },
        {
          "output_type": "stream",
          "text": [
            "colour-science-datasets\n",
            "=======================\n",
            "\n",
            "Datasets : 16\n",
            "Synced   : 2\n",
            "URL      : https://zenodo.org/communities/colour-science-datasets/\n",
            "\n",
            "Datasets\n",
            "--------\n",
            "\n",
            "[ ] 3269926 : Agfa IT8.7/2 Set\n",
            "[x] 3245883 : Camera Spectral Sensitivity Database\n",
            "[ ] 3367463 : Constant Hue Loci Data\n",
            "[ ] 3362536 : Constant Perceived-Hue Data\n",
            "[ ] 3270903 : Corresponding-Colour Datasets\n",
            "[ ] 3269920 : Forest Colors\n",
            "[ ] 3245875 : Labsphere SRS-99-020\n",
            "[ ] 3269924 : Lumber Spectra\n",
            "[ ] 3269918 : Munsell Colors Glossy (All) (Spectrofotometer Measured)\n",
            "[ ] 3269916 : Munsell Colors Glossy (Spectrofotometer Measured)\n",
            "[ ] 3269914 : Munsell Colors Matt (AOTF Measured)\n",
            "[ ] 3269912 : Munsell Colors Matt (Spectrofotometer Measured)\n",
            "[ ] 3245895 : New Color Specifications for ColorChecker SG and Classic Charts\n",
            "[ ] 3252742 : Observer Function Database\n",
            "[ ] 3269922 : Paper Spectra\n",
            "[x] 3372171 : RAW to ACES Utility Data\n"
          ],
          "name": "stdout"
        }
      ]
    },
    {
      "cell_type": "code",
      "metadata": {
        "id": "mhsT7KrIwP87",
        "colab_type": "code",
        "outputId": "3741edfe-25ec-402e-86d8-74f0e1b21a88",
        "colab": {
          "base_uri": "https://localhost:8080/",
          "height": 17
        }
      },
      "source": [
        "# Fujifilm X-T2 sensitivities courtesy Prof. Dr. Jan Fröhlich.\n",
        "FUJIFILM_XT2_SENSITIVITIES = {\n",
        "    380: (-0.0000850511, 0.0000507283, 0.0001182680),\n",
        "    385: (0.0017391753, 0.0015664783, 0.0030663904),\n",
        "    390: (0.0018391639, 0.0013485245, 0.0056839334),\n",
        "    395: (0.0020047764, 0.0018898209, 0.0077782905),\n",
        "    400: (0.0024319499, 0.0023503233, 0.0152484840),\n",
        "    405: (0.0037214138, 0.0042017956, 0.0317564811),\n",
        "    410: (0.0040661443, 0.0059389581, 0.0461115021),\n",
        "    415: (0.0050188542, 0.0103283912, 0.0885883564),\n",
        "    420: (0.0141641162, 0.0446775540, 0.4678504332),\n",
        "    425: (0.0289368226, 0.1097150931, 1.2736648204),\n",
        "    430: (0.0229998057, 0.1218555473, 1.5379422148),\n",
        "    435: (0.0176522587, 0.1491990644, 1.7056632831),\n",
        "    440: (0.0144726504, 0.1867968184, 1.8400450934),\n",
        "    445: (0.0107464186, 0.2150155985, 1.9834635737),\n",
        "    450: (0.0088648711, 0.2162266003, 2.0580732061),\n",
        "    455: (0.0085491319, 0.2054437144, 2.0638934415),\n",
        "    460: (0.0086964157, 0.2537927934, 2.0888061940),\n",
        "    465: (0.0108394895, 0.4036712359, 2.1216650752),\n",
        "    470: (0.0135633997, 0.6631781839, 2.1256474514),\n",
        "    475: (0.0179550003, 1.0833786199, 2.1211476773),\n",
        "    480: (0.0237812140, 1.5477386938, 2.0495970465),\n",
        "    485: (0.0262252044, 1.7972822569, 1.8982666094),\n",
        "    490: (0.0294250769, 1.9944333531, 1.7210776896),\n",
        "    495: (0.0333635172, 2.1511102005, 1.5656151922),\n",
        "    500: (0.0396168375, 2.2832808494, 1.3762479591),\n",
        "    505: (0.0469268560, 2.4023283963, 1.1893304997),\n",
        "    510: (0.0572103232, 2.5511047707, 0.9961925946),\n",
        "    515: (0.0713868116, 2.6287493779, 0.8197455273),\n",
        "    520: (0.0836021073, 2.6545130596, 0.6435621628),\n",
        "    525: (0.0924338183, 2.6419193878, 0.5077499176),\n",
        "    530: (0.0963773110, 2.6712565485, 0.4116406265),\n",
        "    535: (0.0950553314, 2.6615841643, 0.3370802508),\n",
        "    540: (0.0931732510, 2.5982098046, 0.2759953966),\n",
        "    545: (0.0924634463, 2.5699888001, 0.2121870833),\n",
        "    550: (0.0944520009, 2.4783817927, 0.1535785534),\n",
        "    555: (0.1028024209, 2.3719940255, 0.1080085899),\n",
        "    560: (0.1167127364, 2.2914320681, 0.0759132103),\n",
        "    565: (0.1392658710, 2.1507480937, 0.0542478591),\n",
        "    570: (0.2036891001, 2.0062697844, 0.0403866321),\n",
        "    575: (0.4826071157, 1.8869681524, 0.0337911448),\n",
        "    580: (1.1421720720, 1.7063756982, 0.0290716955),\n",
        "    585: (1.7513548729, 1.5136504485, 0.0258337436),\n",
        "    590: (1.9912121898, 1.3231483525, 0.0218989884),\n",
        "    595: (2.0280314847, 1.1049710654, 0.0187962862),\n",
        "    600: (2.0285918274, 0.8849117960, 0.0160717365),\n",
        "    605: (1.9394389960, 0.6758881114, 0.0130994892),\n",
        "    610: (1.7930618254, 0.4994530474, 0.0110792449),\n",
        "    615: (1.6962768127, 0.3682860185, 0.0110615757),\n",
        "    620: (1.6297477439, 0.2807688931, 0.0112705333),\n",
        "    625: (1.5457506148, 0.2243510637, 0.0125268388),\n",
        "    630: (1.4590434578, 0.1858814155, 0.0136028671),\n",
        "    635: (1.3694020846, 0.1572222269, 0.0151973750),\n",
        "    640: (1.2590686946, 0.1319731733, 0.0168792374),\n",
        "    645: (1.1587083458, 0.1093771148, 0.0189046647),\n",
        "    650: (1.0968367497, 0.0925126597, 0.0215228256),\n",
        "    655: (1.0284329906, 0.0811408119, 0.0241990380),\n",
        "    660: (0.9199238968, 0.0751469182, 0.0263396877),\n",
        "    665: (0.8089567874, 0.0740249302, 0.0268489155),\n",
        "    670: (0.7410715904, 0.0794581154, 0.0272828488),\n",
        "    675: (0.6530452201, 0.0854697297, 0.0264080431),\n",
        "    680: (0.4691569675, 0.0762769868, 0.0200047025),\n",
        "    685: (0.2726319437, 0.0559628152, 0.0132758753),\n",
        "    690: (0.1474833504, 0.0361475626, 0.0073368266),\n",
        "    695: (0.0838719140, 0.0232583145, 0.0041905597),\n",
        "    700: (0.0495969245, 0.0148939268, 0.0023401688),\n",
        "    705: (0.0508611613, 0.0152692357, 0.0024024764),\n",
        "    710: (0.0275162807, 0.0086920249, 0.0011455218),\n",
        "    715: (0.0182886806, 0.0059500079, 0.0006282180),\n",
        "    720: (0.0141230590, 0.0041396701, -0.0001967192),\n",
        "    725: (0.0108287418, 0.0032726525, 0.0001009021),\n",
        "    730: (0.0070269151, 0.0016909734, -0.0004938016),\n",
        "    735: (0.0064099811, 0.0018393029, -0.0000322150),\n",
        "    740: (0.0059408997, 0.0013489824, -0.0005827746),\n",
        "    745: (0.0048495041, 0.0014616363, -0.0000900026),\n",
        "    750: (0.0126660573, 0.0040132707, -0.0004361908),\n",
        "    755: (0.0054878043, 0.0017572947, -0.0006635022),\n",
        "    760: (-0.0010269703, -0.0018653584, -0.0027123156),\n",
        "    765: (0.0026327462, 0.0007082691, -0.0007148143),\n",
        "    770: (-0.0003658680, -0.0016082711, -0.0028283335),\n",
        "    775: (0.0007704984, 0.0000952247, -0.0009148115),\n",
        "    780: (0.0002937840, -0.0000545454, -0.0008717080)\n",
        "}\n",
        "\n",
        "ADDITIONAL_CAMERA_SENSITIVITIES_DATABASE = {\n",
        "    'Fujifilm X-T2':\n",
        "    colour.characterisation.RGB_SpectralSensitivities(\n",
        "        FUJIFILM_XT2_SENSITIVITIES, name='Fujifilm X-T2'),\n",
        "    'ACES RICD':\n",
        "    colour.characterisation.ACES_RICD,\n",
        "}"
      ],
      "execution_count": 0,
      "outputs": [
        {
          "output_type": "display_data",
          "data": {
            "text/html": [
              "\n",
              "<style>\n",
              "    body {\n",
              "        background-color: white !important;\n",
              "    }\n",
              "\n",
              "    .table, .matrix-table {\n",
              "        width: 100%\n",
              "    }\n",
              "\n",
              "    .table-row-header, .table-data-header {\n",
              "        background-color: #aaa !important;\n",
              "        color: #fff !important;\n",
              "        font-weight: bold !important;\n",
              "        text-align: center\n",
              "    }\n",
              "\n",
              "    .vertical-align-top {\n",
              "        vertical-align: top\n",
              "    }\n",
              "\n",
              "    .text-align-center {\n",
              "        text-align: center\n",
              "    }\n",
              "\n",
              "    .table-row-odd {\n",
              "        background-color: #eee !important;\n",
              "    }\n",
              "\n",
              "    .matrix-table, .matrix-row, .matrix-column {\n",
              "        border: none\n",
              "        text-align: center\n",
              "    }\n",
              "\n",
              "    .table, .table-canton, .table-row-header-group, .table-row-header, .table-data-header, .table-row, .table-data {\n",
              "        border-color: #fff\n",
              "    }\n",
              "</style>\n"
            ],
            "text/plain": [
              "<IPython.core.display.HTML object>"
            ]
          },
          "metadata": {
            "tags": []
          }
        }
      ]
    },
    {
      "cell_type": "code",
      "metadata": {
        "id": "DXRwuHZarMwQ",
        "colab_type": "code",
        "outputId": "bc656be4-15ae-485d-f46b-77ed8ad65015",
        "colab": {
          "base_uri": "https://localhost:8080/",
          "height": 54
        }
      },
      "source": [
        "CAMERA_SENSITIVITIES_DATABASE = colour_datasets.load(\n",
        "    'Camera Spectral Sensitivity Database')\n",
        "AMPAS_CAMERA_SENSITIVITIES_DATABASE = colour_datasets.load(\n",
        "    'RAW to ACES Utility Data')\n",
        "\n",
        "TRAINING_DATA = AMPAS_CAMERA_SENSITIVITIES_DATABASE['training']['190-patch']\n",
        "\n",
        "COMPOSITE_CAMERA_SENSITIVITIES_DATABASE = deepcopy(\n",
        "    CAMERA_SENSITIVITIES_DATABASE)\n",
        "COMPOSITE_CAMERA_SENSITIVITIES_DATABASE.update(\n",
        "    deepcopy(AMPAS_CAMERA_SENSITIVITIES_DATABASE['camera']))\n",
        "COMPOSITE_CAMERA_SENSITIVITIES_DATABASE.update(\n",
        "    deepcopy(ADDITIONAL_CAMERA_SENSITIVITIES_DATABASE))\n",
        "\n",
        "CAMERA_NAMES = sorted(COMPOSITE_CAMERA_SENSITIVITIES_DATABASE.keys())\n",
        "\n",
        "print(CAMERA_NAMES)\n",
        "\n",
        "SLUGGIFIED_CAMERA_NAMES = {\n",
        "    slugify(camera_name): camera_name\n",
        "    for camera_name in CAMERA_NAMES\n",
        "}"
      ],
      "execution_count": 0,
      "outputs": [
        {
          "output_type": "display_data",
          "data": {
            "text/html": [
              "\n",
              "<style>\n",
              "    body {\n",
              "        background-color: white !important;\n",
              "    }\n",
              "\n",
              "    .table, .matrix-table {\n",
              "        width: 100%\n",
              "    }\n",
              "\n",
              "    .table-row-header, .table-data-header {\n",
              "        background-color: #aaa !important;\n",
              "        color: #fff !important;\n",
              "        font-weight: bold !important;\n",
              "        text-align: center\n",
              "    }\n",
              "\n",
              "    .vertical-align-top {\n",
              "        vertical-align: top\n",
              "    }\n",
              "\n",
              "    .text-align-center {\n",
              "        text-align: center\n",
              "    }\n",
              "\n",
              "    .table-row-odd {\n",
              "        background-color: #eee !important;\n",
              "    }\n",
              "\n",
              "    .matrix-table, .matrix-row, .matrix-column {\n",
              "        border: none\n",
              "        text-align: center\n",
              "    }\n",
              "\n",
              "    .table, .table-canton, .table-row-header-group, .table-row-header, .table-data-header, .table-row, .table-data {\n",
              "        border-color: #fff\n",
              "    }\n",
              "</style>\n"
            ],
            "text/plain": [
              "<IPython.core.display.HTML object>"
            ]
          },
          "metadata": {
            "tags": []
          }
        },
        {
          "output_type": "stream",
          "text": [
            "['ACES RICD', 'Canon 1DMarkIII', 'Canon 20D', 'Canon 300D', 'Canon 40D', 'Canon 500D', 'Canon 50D', 'Canon 5DMarkII', 'Canon 600D', 'Canon 60D', 'Fujifilm X-T2', 'Hasselblad H2', 'Nikon D200', 'Nikon D3', 'Nikon D300s', 'Nikon D3X', 'Nikon D40', 'Nikon D50', 'Nikon D5100', 'Nikon D700', 'Nikon D80', 'Nikon D90', 'Nokia N900', 'Olympus E-PL2', 'Pentax K-5', 'Pentax Q', 'Phase One', 'Point Grey Grasshopper 50S5C', 'Point Grey Grasshopper2 14S5C', 'SONY NEX-5N', 'arri d21', 'canon eos 5d mark ii', 'canon powershot s90', 'canon xti', 'nikon d200', 'nikon d5100', 'nikon d70', 'nikon d700', 'nikon d7000', 'sony ilce-7rm2', 'sony ilce-7sm2']\n"
          ],
          "name": "stdout"
        }
      ]
    },
    {
      "cell_type": "markdown",
      "metadata": {
        "id": "epmEBrPVIZMM",
        "colab_type": "text"
      },
      "source": [
        "## Camera Sensitivities Normalisation"
      ]
    },
    {
      "cell_type": "code",
      "metadata": {
        "id": "xaJ2k8V8SmP6",
        "colab_type": "code",
        "outputId": "d638301f-1dcc-4a7a-8242-4480e1374206",
        "colab": {
          "base_uri": "https://localhost:8080/",
          "height": 1000
        }
      },
      "source": [
        "SHAPE = colour.SpectralShape(400, 700, 5)\n",
        "MITSUBA_SHAPE = colour.SpectralShape(360, 830, 5)\n",
        "\n",
        "\n",
        "def normalise_multi_signal(multi_signal):\n",
        "    multi_signal = multi_signal.copy()\n",
        "\n",
        "    f_n = colour.sd_to_XYZ(colour.sd_ones(), cmfs=multi_signal) / 100\n",
        "    print('\"{0}\": {1}'.format(multi_signal.name, f_n))\n",
        "    multi_signal.values = multi_signal.values / f_n\n",
        "\n",
        "    return multi_signal\n",
        "\n",
        "\n",
        "print('CMFS & Camera Sensitivities Normalisation Factors')\n",
        "INTERPOLATOR = colour.LinearInterpolator\n",
        "EXTRAPOLATOR_KWARGS = {'right': 0, 'left': 0, 'method': 'constant'}\n",
        "\n",
        "CMFS_NAME = 'CIE 1931 2 Degree Standard Observer'\n",
        "CMFS = normalise_multi_signal(colour.CMFS[CMFS_NAME].copy().align(MITSUBA_SHAPE))\n",
        "\n",
        "COMPOSITE_CAMERA_SENSITIVITIES_DATABASE = {\n",
        "    name: normalise_multi_signal(sensitivities.copy().align(\n",
        "        SHAPE).align(MITSUBA_SHAPE, extrapolator_kwargs=EXTRAPOLATOR_KWARGS))\n",
        "    for name, sensitivities in COMPOSITE_CAMERA_SENSITIVITIES_DATABASE.items()\n",
        "}\n",
        "\n",
        "colour.plotting.plot_multi_cmfs(\n",
        "    [CMFS, COMPOSITE_CAMERA_SENSITIVITIES_DATABASE[CAMERA_NAMES[0]]]);"
      ],
      "execution_count": 0,
      "outputs": [
        {
          "output_type": "display_data",
          "data": {
            "text/html": [
              "\n",
              "<style>\n",
              "    body {\n",
              "        background-color: white !important;\n",
              "    }\n",
              "\n",
              "    .table, .matrix-table {\n",
              "        width: 100%\n",
              "    }\n",
              "\n",
              "    .table-row-header, .table-data-header {\n",
              "        background-color: #aaa !important;\n",
              "        color: #fff !important;\n",
              "        font-weight: bold !important;\n",
              "        text-align: center\n",
              "    }\n",
              "\n",
              "    .vertical-align-top {\n",
              "        vertical-align: top\n",
              "    }\n",
              "\n",
              "    .text-align-center {\n",
              "        text-align: center\n",
              "    }\n",
              "\n",
              "    .table-row-odd {\n",
              "        background-color: #eee !important;\n",
              "    }\n",
              "\n",
              "    .matrix-table, .matrix-row, .matrix-column {\n",
              "        border: none\n",
              "        text-align: center\n",
              "    }\n",
              "\n",
              "    .table, .table-canton, .table-row-header-group, .table-row-header, .table-data-header, .table-row, .table-data {\n",
              "        border-color: #fff\n",
              "    }\n",
              "</style>\n"
            ],
            "text/plain": [
              "<IPython.core.display.HTML object>"
            ]
          },
          "metadata": {
            "tags": []
          }
        },
        {
          "output_type": "stream",
          "text": [
            "CMFS & Camera Sensitivities Normalisation Factors\n",
            "\"CIE 1931 2 Degree Standard Observer\": [ 1.00007817  1.          1.00034117]\n",
            "\"Canon 1DMarkIII\": [ 0.4643693  1.         0.7515508]\n",
            "\"Canon 20D\": [ 0.53492694  1.          0.65663821]\n",
            "\"Canon 300D\": [ 0.51365973  1.          0.94518052]\n",
            "\"Canon 40D\": [ 0.45873856  1.          0.76156072]\n",
            "\"Canon 500D\": [ 0.49424391  1.          0.79044306]\n",
            "\"Canon 50D\": [ 0.48288578  1.          0.81077445]\n",
            "\"Canon 5DMarkII\": [ 0.51226291  1.          0.63354197]\n",
            "\"Canon 600D\": [ 0.44912477  1.          0.6853175 ]\n",
            "\"Canon 60D\": [ 0.45252825  1.          0.71799655]\n",
            "\"Hasselblad H2\": [ 0.3939756   1.          1.00023554]\n",
            "\"Nikon D3X\": [ 0.4586101   1.          0.76026313]\n",
            "\"Nikon D200\": [ 0.58071958  1.          0.72940151]\n",
            "\"Nikon D3\": [ 0.55525235  1.          0.78156171]\n",
            "\"Nikon D300s\": [ 0.66096129  1.          0.83936663]\n",
            "\"Nikon D40\": [ 0.46573036  1.          0.78634668]\n",
            "\"Nikon D50\": [ 0.46014445  1.          0.77977596]\n",
            "\"Nikon D5100\": [ 0.50478011  1.          0.75262632]\n",
            "\"Nikon D700\": [ 0.56748599  1.          0.78400267]\n",
            "\"Nikon D80\": [ 0.54653664  1.          0.66837335]\n",
            "\"Nikon D90\": [ 0.54024525  1.          0.84795939]\n",
            "\"Nokia N900\": [ 0.80160036  1.          0.77910112]\n",
            "\"Olympus E-PL2\": [ 0.77409926  1.          0.76245943]\n",
            "\"Pentax K-5\": [ 0.4750127   1.          0.66313219]\n",
            "\"Pentax Q\": [ 0.67213258  1.          0.62923333]\n",
            "\"Point Grey Grasshopper 50S5C\": [ 0.95758598  1.          1.80665923]\n",
            "\"Point Grey Grasshopper2 14S5C\": [ 1.05356437  1.          1.73151742]\n",
            "\"Phase One\": [ 0.7133728   1.          0.72348132]\n",
            "\"SONY NEX-5N\": [ 0.39777003  1.          0.72351203]\n",
            "\"canon powershot s90\": [ 0.60126174  1.          0.52271898]\n",
            "\"canon xti\": [ 0.44746963  1.          0.7678    ]\n",
            "\"nikon d5100\": [ 0.66916294  1.          0.81563572]\n",
            "\"arri d21\": [ 1.11166188  1.          1.13991689]\n",
            "\"canon eos 5d mark ii\": [ 0.4450871   1.          0.70541399]\n",
            "\"nikon d70\": [ 0.43751051  1.          0.69604226]\n",
            "\"nikon d200\": [ 0.59336517  1.          0.74640156]\n",
            "\"nikon d700\": [ 0.57266989  1.          0.7843232 ]\n",
            "\"sony ilce-7rm2\": [ 0.38084481  1.          0.7270701 ]\n",
            "\"sony ilce-7sm2\": [ 0.37847283  1.          0.74889114]\n",
            "\"nikon d7000\": [ 0.50603195  1.          0.79027522]\n",
            "\"Fujifilm X-T2\": [ 0.52235152  1.          0.60917663]\n",
            "\"ACES RICD\": [ 0.99791399  1.          0.99625349]\n"
          ],
          "name": "stdout"
        },
        {
          "output_type": "display_data",
          "data": {
            "image/png": "[encoded data removed]",
            "text/plain": [
              "<Figure size 1920x1080 with 1 Axes>"
            ]
          },
          "metadata": {
            "tags": [],
            "needs_background": "light"
          }
        }
      ]
    },
    {
      "cell_type": "markdown",
      "metadata": {
        "id": "xXEgqb_dIlg2",
        "colab_type": "text"
      },
      "source": [
        "## IDT Matrices"
      ]
    },
    {
      "cell_type": "code",
      "metadata": {
        "id": "-uJCy4axEi0k",
        "colab_type": "code",
        "outputId": "dc805359-b0d5-4a43-939b-3dfc286233fa",
        "colab": {
          "base_uri": "https://localhost:8080/",
          "height": 1000
        }
      },
      "source": [
        "ILLUMINANT_SD = EMITTER_DATABASE[ILLUMINANT]\n",
        "\n",
        "M_IDT = {\n",
        "    camera: colour.idt_matrix(sensitivities, ILLUMINANT_SD, CMFS)\n",
        "    for camera, sensitivities in\n",
        "    COMPOSITE_CAMERA_SENSITIVITIES_DATABASE.items()\n",
        "}\n",
        "\n",
        "\n",
        "def html_format_pseudo_idt_matrices(M_IDT):\n",
        "    html = ('<table class=\"table\">'\n",
        "            '<thead class=\"table-header\">'\n",
        "            '<tr class=\"table-row-header-group\">'\n",
        "            '<th class=\"table-canton\"></th>'\n",
        "            '<th class=\"table-row-header\">Illuminant ({0})</th>'\n",
        "            '</tr>'\n",
        "            '</thead>'\n",
        "            '<tbody>'.format(ILLUMINANT))\n",
        "    for i, (camera_name, M) in enumerate(M_IDT.items()):\n",
        "        html += '<tr class=\"table-row {0}\">'.format('table-row-odd' if i %\n",
        "                                                    2 == 0 else '')\n",
        "        html += '<td class=\"table-data-header\">{0}</td>'.format(camera_name)\n",
        "        html += '<td class=\"table-data\">{0}</td>'.format(\n",
        "            html_format_matrix(M))\n",
        "        html += '</tr>'\n",
        "    html += ('<tbody>' '</table>')\n",
        "\n",
        "    return html\n",
        "\n",
        "\n",
        "HTML(\n",
        "    html_format_pseudo_idt_matrices(\n",
        "        {camera_name: M_IDT[camera_name]\n",
        "         for camera_name in CAMERA_NAMES}))\n"
      ],
      "execution_count": 0,
      "outputs": [
        {
          "output_type": "display_data",
          "data": {
            "text/html": [
              "\n",
              "<style>\n",
              "    body {\n",
              "        background-color: white !important;\n",
              "    }\n",
              "\n",
              "    .table, .matrix-table {\n",
              "        width: 100%\n",
              "    }\n",
              "\n",
              "    .table-row-header, .table-data-header {\n",
              "        background-color: #aaa !important;\n",
              "        color: #fff !important;\n",
              "        font-weight: bold !important;\n",
              "        text-align: center\n",
              "    }\n",
              "\n",
              "    .vertical-align-top {\n",
              "        vertical-align: top\n",
              "    }\n",
              "\n",
              "    .text-align-center {\n",
              "        text-align: center\n",
              "    }\n",
              "\n",
              "    .table-row-odd {\n",
              "        background-color: #eee !important;\n",
              "    }\n",
              "\n",
              "    .matrix-table, .matrix-row, .matrix-column {\n",
              "        border: none\n",
              "        text-align: center\n",
              "    }\n",
              "\n",
              "    .table, .table-canton, .table-row-header-group, .table-row-header, .table-data-header, .table-row, .table-data {\n",
              "        border-color: #fff\n",
              "    }\n",
              "</style>\n"
            ],
            "text/plain": [
              "<IPython.core.display.HTML object>"
            ]
          },
          "metadata": {
            "tags": []
          }
        },
        {
          "output_type": "execute_result",
          "data": {
            "text/html": [
              "<table class=\"table\"><thead class=\"table-header\"><tr class=\"table-row-header-group\"><th class=\"table-canton\"></th><th class=\"table-row-header\">Illuminant (Daylight FL)</th></tr></thead><tbody><tr class=\"table-row table-row-odd\"><td class=\"table-data-header\">ACES RICD</td><td class=\"table-data\"><table class=\"matrix-table\"><tr class=\"matrix-row\"><td class=\"matrix-column\"> 1.0062792728</td><td class=\"matrix-column\"> 0.0096138650</td><td class=\"matrix-column\">-0.0161755194</td></tr><tr class=\"matrix-row\"><td class=\"matrix-column\"> 0.0017333532</td><td class=\"matrix-column\"> 1.0042590712</td><td class=\"matrix-column\">-0.0059893194</td></tr><tr class=\"matrix-row\"><td class=\"matrix-column\">-0.0005735112</td><td class=\"matrix-column\">-0.0005785669</td><td class=\"matrix-column\"> 1.0003776822</td></tr></table></td></tr><tr class=\"table-row \"><td class=\"table-data-header\">Canon 1DMarkIII</td><td class=\"table-data\"><table class=\"matrix-table\"><tr class=\"matrix-row\"><td class=\"matrix-column\"> 0.6719438099</td><td class=\"matrix-column\"> 0.0412800644</td><td class=\"matrix-column\"> 0.1916185732</td></tr><tr class=\"matrix-row\"><td class=\"matrix-column\"> 0.1338667013</td><td class=\"matrix-column\"> 0.8278480705</td><td class=\"matrix-column\">-0.0625221665</td></tr><tr class=\"matrix-row\"><td class=\"matrix-column\"> 0.0941650471</td><td class=\"matrix-column\">-0.2201301584</td><td class=\"matrix-column\"> 1.0701190188</td></tr></table></td></tr><tr class=\"table-row table-row-odd\"><td class=\"table-data-header\">Canon 20D</td><td class=\"table-data\"><table class=\"matrix-table\"><tr class=\"matrix-row\"><td class=\"matrix-column\"> 0.8116143848</td><td class=\"matrix-column\"> 0.0552354391</td><td class=\"matrix-column\"> 0.2136238818</td></tr><tr class=\"matrix-row\"><td class=\"matrix-column\"> 0.0988743178</td><td class=\"matrix-column\"> 1.0218031801</td><td class=\"matrix-column\">-0.0735794606</td></tr><tr class=\"matrix-row\"><td class=\"matrix-column\"> 0.1530998716</td><td class=\"matrix-column\">-0.3317615859</td><td class=\"matrix-column\"> 1.3026005035</td></tr></table></td></tr><tr class=\"table-row \"><td class=\"table-data-header\">Canon 300D</td><td class=\"table-data\"><table class=\"matrix-table\"><tr class=\"matrix-row\"><td class=\"matrix-column\"> 0.5965274802</td><td class=\"matrix-column\"> 0.1513863581</td><td class=\"matrix-column\"> 0.1683798682</td></tr><tr class=\"matrix-row\"><td class=\"matrix-column\"> 0.1111317035</td><td class=\"matrix-column\"> 0.9437199685</td><td class=\"matrix-column\">-0.1580359041</td></tr><tr class=\"matrix-row\"><td class=\"matrix-column\"> 0.1064790460</td><td class=\"matrix-column\">-0.3059960251</td><td class=\"matrix-column\"> 1.2042636533</td></tr></table></td></tr><tr class=\"table-row table-row-odd\"><td class=\"table-data-header\">Canon 40D</td><td class=\"table-data\"><table class=\"matrix-table\"><tr class=\"matrix-row\"><td class=\"matrix-column\"> 0.8256651930</td><td class=\"matrix-column\"> 0.0236005575</td><td class=\"matrix-column\"> 0.2351655592</td></tr><tr class=\"matrix-row\"><td class=\"matrix-column\"> 0.1009106176</td><td class=\"matrix-column\"> 1.0526390444</td><td class=\"matrix-column\">-0.0800214484</td></tr><tr class=\"matrix-row\"><td class=\"matrix-column\"> 0.1339072708</td><td class=\"matrix-column\">-0.3643597326</td><td class=\"matrix-column\"> 1.3322454502</td></tr></table></td></tr><tr class=\"table-row \"><td class=\"table-data-header\">Canon 500D</td><td class=\"table-data\"><table class=\"matrix-table\"><tr class=\"matrix-row\"><td class=\"matrix-column\"> 0.8834321064</td><td class=\"matrix-column\">-0.2155212069</td><td class=\"matrix-column\"> 0.2569179806</td></tr><tr class=\"matrix-row\"><td class=\"matrix-column\"> 0.0680496377</td><td class=\"matrix-column\"> 1.0244112679</td><td class=\"matrix-column\">-0.1514384883</td></tr><tr class=\"matrix-row\"><td class=\"matrix-column\"> 0.1018458847</td><td class=\"matrix-column\">-0.5076344729</td><td class=\"matrix-column\"> 1.3702696006</td></tr></table></td></tr><tr class=\"table-row table-row-odd\"><td class=\"table-data-header\">Canon 50D</td><td class=\"table-data\"><table class=\"matrix-table\"><tr class=\"matrix-row\"><td class=\"matrix-column\"> 0.8338243881</td><td class=\"matrix-column\">-0.1484094351</td><td class=\"matrix-column\"> 0.2317845892</td></tr><tr class=\"matrix-row\"><td class=\"matrix-column\"> 0.0670929140</td><td class=\"matrix-column\"> 0.9778962657</td><td class=\"matrix-column\">-0.1197245376</td></tr><tr class=\"matrix-row\"><td class=\"matrix-column\"> 0.0812259635</td><td class=\"matrix-column\">-0.4360510872</td><td class=\"matrix-column\"> 1.2919454147</td></tr></table></td></tr><tr class=\"table-row \"><td class=\"table-data-header\">Canon 5DMarkII</td><td class=\"table-data\"><table class=\"matrix-table\"><tr class=\"matrix-row\"><td class=\"matrix-column\"> 0.8830770958</td><td class=\"matrix-column\">-0.0735075099</td><td class=\"matrix-column\"> 0.2466713207</td></tr><tr class=\"matrix-row\"><td class=\"matrix-column\"> 0.0887792364</td><td class=\"matrix-column\"> 1.0635686349</td><td class=\"matrix-column\">-0.0895437441</td></tr><tr class=\"matrix-row\"><td class=\"matrix-column\"> 0.1485057253</td><td class=\"matrix-column\">-0.3619505611</td><td class=\"matrix-column\"> 1.3214605159</td></tr></table></td></tr><tr class=\"table-row table-row-odd\"><td class=\"table-data-header\">Canon 600D</td><td class=\"table-data\"><table class=\"matrix-table\"><tr class=\"matrix-row\"><td class=\"matrix-column\"> 0.7019860245</td><td class=\"matrix-column\">-0.0180375309</td><td class=\"matrix-column\"> 0.1985760189</td></tr><tr class=\"matrix-row\"><td class=\"matrix-column\"> 0.0612261250</td><td class=\"matrix-column\"> 0.9275709579</td><td class=\"matrix-column\">-0.1032236043</td></tr><tr class=\"matrix-row\"><td class=\"matrix-column\"> 0.1113281397</td><td class=\"matrix-column\">-0.3383931509</td><td class=\"matrix-column\"> 1.1339166130</td></tr></table></td></tr><tr class=\"table-row \"><td class=\"table-data-header\">Canon 60D</td><td class=\"table-data\"><table class=\"matrix-table\"><tr class=\"matrix-row\"><td class=\"matrix-column\"> 0.7104762116</td><td class=\"matrix-column\">-0.0091737582</td><td class=\"matrix-column\"> 0.2013630972</td></tr><tr class=\"matrix-row\"><td class=\"matrix-column\"> 0.0664180331</td><td class=\"matrix-column\"> 0.9334725497</td><td class=\"matrix-column\">-0.0979284462</td></tr><tr class=\"matrix-row\"><td class=\"matrix-column\"> 0.1055477028</td><td class=\"matrix-column\">-0.3259989076</td><td class=\"matrix-column\"> 1.1526868777</td></tr></table></td></tr><tr class=\"table-row table-row-odd\"><td class=\"table-data-header\">Fujifilm X-T2</td><td class=\"table-data\"><table class=\"matrix-table\"><tr class=\"matrix-row\"><td class=\"matrix-column\"> 0.4743778324</td><td class=\"matrix-column\"> 0.1930486342</td><td class=\"matrix-column\"> 0.1378331084</td></tr><tr class=\"matrix-row\"><td class=\"matrix-column\"> 0.0299731615</td><td class=\"matrix-column\"> 0.8086933626</td><td class=\"matrix-column\">-0.0720830774</td></tr><tr class=\"matrix-row\"><td class=\"matrix-column\"> 0.0965939470</td><td class=\"matrix-column\">-0.2508727581</td><td class=\"matrix-column\"> 0.9469187123</td></tr></table></td></tr><tr class=\"table-row \"><td class=\"table-data-header\">Hasselblad H2</td><td class=\"table-data\"><table class=\"matrix-table\"><tr class=\"matrix-row\"><td class=\"matrix-column\"> 0.6037147186</td><td class=\"matrix-column\"> 0.1046852927</td><td class=\"matrix-column\"> 0.1643859833</td></tr><tr class=\"matrix-row\"><td class=\"matrix-column\"> 0.0904093046</td><td class=\"matrix-column\"> 0.7328040755</td><td class=\"matrix-column\">-0.0405345676</td></tr><tr class=\"matrix-row\"><td class=\"matrix-column\"> 0.1470757254</td><td class=\"matrix-column\">-0.3855926701</td><td class=\"matrix-column\"> 1.1949771708</td></tr></table></td></tr><tr class=\"table-row table-row-odd\"><td class=\"table-data-header\">Nikon D200</td><td class=\"table-data\"><table class=\"matrix-table\"><tr class=\"matrix-row\"><td class=\"matrix-column\"> 0.5849398156</td><td class=\"matrix-column\"> 0.1931236001</td><td class=\"matrix-column\"> 0.0981078384</td></tr><tr class=\"matrix-row\"><td class=\"matrix-column\"> 0.1156841285</td><td class=\"matrix-column\"> 0.8193785277</td><td class=\"matrix-column\">-0.0861823768</td></tr><tr class=\"matrix-row\"><td class=\"matrix-column\"> 0.0585156448</td><td class=\"matrix-column\">-0.1199593479</td><td class=\"matrix-column\"> 0.9354612748</td></tr></table></td></tr><tr class=\"table-row \"><td class=\"table-data-header\">Nikon D3</td><td class=\"table-data\"><table class=\"matrix-table\"><tr class=\"matrix-row\"><td class=\"matrix-column\"> 0.5971024299</td><td class=\"matrix-column\"> 0.1821982564</td><td class=\"matrix-column\"> 0.1069105963</td></tr><tr class=\"matrix-row\"><td class=\"matrix-column\"> 0.1192804302</td><td class=\"matrix-column\"> 0.8065056654</td><td class=\"matrix-column\">-0.0640765748</td></tr><tr class=\"matrix-row\"><td class=\"matrix-column\"> 0.0650421223</td><td class=\"matrix-column\">-0.1422626980</td><td class=\"matrix-column\"> 0.9674138476</td></tr></table></td></tr><tr class=\"table-row table-row-odd\"><td class=\"table-data-header\">Nikon D300s</td><td class=\"table-data\"><table class=\"matrix-table\"><tr class=\"matrix-row\"><td class=\"matrix-column\"> 0.6465223395</td><td class=\"matrix-column\"> 0.1519924084</td><td class=\"matrix-column\"> 0.1160457843</td></tr><tr class=\"matrix-row\"><td class=\"matrix-column\"> 0.1112262282</td><td class=\"matrix-column\"> 0.8663836923</td><td class=\"matrix-column\">-0.1008973917</td></tr><tr class=\"matrix-row\"><td class=\"matrix-column\"> 0.1080507352</td><td class=\"matrix-column\">-0.2675916434</td><td class=\"matrix-column\"> 1.1105178914</td></tr></table></td></tr><tr class=\"table-row \"><td class=\"table-data-header\">Nikon D3X</td><td class=\"table-data\"><table class=\"matrix-table\"><tr class=\"matrix-row\"><td class=\"matrix-column\"> 0.5888317877</td><td class=\"matrix-column\"> 0.2020792857</td><td class=\"matrix-column\"> 0.1109958926</td></tr><tr class=\"matrix-row\"><td class=\"matrix-column\"> 0.0953139034</td><td class=\"matrix-column\"> 0.8922319240</td><td class=\"matrix-column\">-0.1226497169</td></tr><tr class=\"matrix-row\"><td class=\"matrix-column\"> 0.0795728172</td><td class=\"matrix-column\">-0.2087274789</td><td class=\"matrix-column\"> 1.0503309802</td></tr></table></td></tr><tr class=\"table-row table-row-odd\"><td class=\"table-data-header\">Nikon D40</td><td class=\"table-data\"><table class=\"matrix-table\"><tr class=\"matrix-row\"><td class=\"matrix-column\"> 0.6115773203</td><td class=\"matrix-column\"> 0.1521131240</td><td class=\"matrix-column\"> 0.1421741758</td></tr><tr class=\"matrix-row\"><td class=\"matrix-column\"> 0.1295812568</td><td class=\"matrix-column\"> 0.8573077899</td><td class=\"matrix-column\">-0.1066494060</td></tr><tr class=\"matrix-row\"><td class=\"matrix-column\"> 0.0471246318</td><td class=\"matrix-column\">-0.1111493677</td><td class=\"matrix-column\"> 1.0118654738</td></tr></table></td></tr><tr class=\"table-row \"><td class=\"table-data-header\">Nikon D50</td><td class=\"table-data\"><table class=\"matrix-table\"><tr class=\"matrix-row\"><td class=\"matrix-column\"> 0.5773751186</td><td class=\"matrix-column\"> 0.1636656954</td><td class=\"matrix-column\"> 0.1385624453</td></tr><tr class=\"matrix-row\"><td class=\"matrix-column\"> 0.0983067258</td><td class=\"matrix-column\"> 0.8250994352</td><td class=\"matrix-column\">-0.0885100655</td></tr><tr class=\"matrix-row\"><td class=\"matrix-column\"> 0.0618863073</td><td class=\"matrix-column\">-0.1341973162</td><td class=\"matrix-column\"> 0.9936918603</td></tr></table></td></tr><tr class=\"table-row table-row-odd\"><td class=\"table-data-header\">Nikon D5100</td><td class=\"table-data\"><table class=\"matrix-table\"><tr class=\"matrix-row\"><td class=\"matrix-column\"> 0.6235130285</td><td class=\"matrix-column\"> 0.1640970748</td><td class=\"matrix-column\"> 0.0948989841</td></tr><tr class=\"matrix-row\"><td class=\"matrix-column\"> 0.1028039462</td><td class=\"matrix-column\"> 0.9287991651</td><td class=\"matrix-column\">-0.1654912909</td></tr><tr class=\"matrix-row\"><td class=\"matrix-column\"> 0.0899397130</td><td class=\"matrix-column\">-0.2544392298</td><td class=\"matrix-column\"> 1.0517863093</td></tr></table></td></tr><tr class=\"table-row \"><td class=\"table-data-header\">Nikon D700</td><td class=\"table-data\"><table class=\"matrix-table\"><tr class=\"matrix-row\"><td class=\"matrix-column\"> 0.5949343863</td><td class=\"matrix-column\"> 0.1884284100</td><td class=\"matrix-column\"> 0.1075628923</td></tr><tr class=\"matrix-row\"><td class=\"matrix-column\"> 0.1079060516</td><td class=\"matrix-column\"> 0.8245812951</td><td class=\"matrix-column\">-0.0696685913</td></tr><tr class=\"matrix-row\"><td class=\"matrix-column\"> 0.0662074031</td><td class=\"matrix-column\">-0.1419493523</td><td class=\"matrix-column\"> 0.9734535891</td></tr></table></td></tr><tr class=\"table-row table-row-odd\"><td class=\"table-data-header\">Nikon D80</td><td class=\"table-data\"><table class=\"matrix-table\"><tr class=\"matrix-row\"><td class=\"matrix-column\"> 0.5884122053</td><td class=\"matrix-column\"> 0.1811127694</td><td class=\"matrix-column\"> 0.1285182149</td></tr><tr class=\"matrix-row\"><td class=\"matrix-column\"> 0.1216905803</td><td class=\"matrix-column\"> 0.8169384809</td><td class=\"matrix-column\">-0.0740987889</td></tr><tr class=\"matrix-row\"><td class=\"matrix-column\"> 0.0789506907</td><td class=\"matrix-column\">-0.1578455936</td><td class=\"matrix-column\"> 1.0111878179</td></tr></table></td></tr><tr class=\"table-row \"><td class=\"table-data-header\">Nikon D90</td><td class=\"table-data\"><table class=\"matrix-table\"><tr class=\"matrix-row\"><td class=\"matrix-column\"> 0.6513606071</td><td class=\"matrix-column\"> 0.1687773344</td><td class=\"matrix-column\"> 0.0923227998</td></tr><tr class=\"matrix-row\"><td class=\"matrix-column\"> 0.1245722594</td><td class=\"matrix-column\"> 0.8699890330</td><td class=\"matrix-column\">-0.1177732845</td></tr><tr class=\"matrix-row\"><td class=\"matrix-column\"> 0.0925836546</td><td class=\"matrix-column\">-0.2356635232</td><td class=\"matrix-column\"> 1.0773057925</td></tr></table></td></tr><tr class=\"table-row table-row-odd\"><td class=\"table-data-header\">Nokia N900</td><td class=\"table-data\"><table class=\"matrix-table\"><tr class=\"matrix-row\"><td class=\"matrix-column\"> 0.5768341125</td><td class=\"matrix-column\"> 0.0903022798</td><td class=\"matrix-column\"> 0.2322609425</td></tr><tr class=\"matrix-row\"><td class=\"matrix-column\">-0.0093450042</td><td class=\"matrix-column\"> 0.8877960392</td><td class=\"matrix-column\">-0.0423238128</td></tr><tr class=\"matrix-row\"><td class=\"matrix-column\">-0.0048395969</td><td class=\"matrix-column\">-0.4521527840</td><td class=\"matrix-column\"> 1.3724180509</td></tr></table></td></tr><tr class=\"table-row \"><td class=\"table-data-header\">Olympus E-PL2</td><td class=\"table-data\"><table class=\"matrix-table\"><tr class=\"matrix-row\"><td class=\"matrix-column\"> 0.5086303502</td><td class=\"matrix-column\"> 0.2107805426</td><td class=\"matrix-column\"> 0.1661593117</td></tr><tr class=\"matrix-row\"><td class=\"matrix-column\"> 0.0488695334</td><td class=\"matrix-column\"> 0.8452086157</td><td class=\"matrix-column\">-0.0710872688</td></tr><tr class=\"matrix-row\"><td class=\"matrix-column\"> 0.0761125308</td><td class=\"matrix-column\">-0.2591771130</td><td class=\"matrix-column\"> 1.1053648107</td></tr></table></td></tr><tr class=\"table-row table-row-odd\"><td class=\"table-data-header\">Pentax K-5</td><td class=\"table-data\"><table class=\"matrix-table\"><tr class=\"matrix-row\"><td class=\"matrix-column\"> 0.6171183607</td><td class=\"matrix-column\"> 0.1735880915</td><td class=\"matrix-column\"> 0.0882142035</td></tr><tr class=\"matrix-row\"><td class=\"matrix-column\"> 0.0975491529</td><td class=\"matrix-column\"> 0.9232839629</td><td class=\"matrix-column\">-0.1699077400</td></tr><tr class=\"matrix-row\"><td class=\"matrix-column\"> 0.0807701138</td><td class=\"matrix-column\">-0.2254938376</td><td class=\"matrix-column\"> 1.0268876953</td></tr></table></td></tr><tr class=\"table-row \"><td class=\"table-data-header\">Pentax Q</td><td class=\"table-data\"><table class=\"matrix-table\"><tr class=\"matrix-row\"><td class=\"matrix-column\"> 0.5844699130</td><td class=\"matrix-column\"> 0.1576791445</td><td class=\"matrix-column\"> 0.1545019541</td></tr><tr class=\"matrix-row\"><td class=\"matrix-column\">-0.0095697958</td><td class=\"matrix-column\"> 0.9530091633</td><td class=\"matrix-column\">-0.0793293352</td></tr><tr class=\"matrix-row\"><td class=\"matrix-column\"> 0.0474683860</td><td class=\"matrix-column\">-0.3427375683</td><td class=\"matrix-column\"> 1.1624766142</td></tr></table></td></tr><tr class=\"table-row table-row-odd\"><td class=\"table-data-header\">Phase One</td><td class=\"table-data\"><table class=\"matrix-table\"><tr class=\"matrix-row\"><td class=\"matrix-column\"> 0.8115119252</td><td class=\"matrix-column\">-0.0622114200</td><td class=\"matrix-column\"> 0.2246762536</td></tr><tr class=\"matrix-row\"><td class=\"matrix-column\"> 0.2134238816</td><td class=\"matrix-column\"> 0.8895055505</td><td class=\"matrix-column\">-0.0908985411</td></tr><tr class=\"matrix-row\"><td class=\"matrix-column\"> 0.0838744588</td><td class=\"matrix-column\">-0.5356426595</td><td class=\"matrix-column\"> 1.5501507395</td></tr></table></td></tr><tr class=\"table-row \"><td class=\"table-data-header\">Point Grey Grasshopper 50S5C</td><td class=\"table-data\"><table class=\"matrix-table\"><tr class=\"matrix-row\"><td class=\"matrix-column\"> 0.3573800551</td><td class=\"matrix-column\"> 0.1880649006</td><td class=\"matrix-column\"> 0.0862889767</td></tr><tr class=\"matrix-row\"><td class=\"matrix-column\">-0.1429233801</td><td class=\"matrix-column\"> 0.6030888526</td><td class=\"matrix-column\">-0.0240040252</td></tr><tr class=\"matrix-row\"><td class=\"matrix-column\"> 0.2529296669</td><td class=\"matrix-column\">-0.3773249818</td><td class=\"matrix-column\"> 0.8164877464</td></tr></table></td></tr><tr class=\"table-row table-row-odd\"><td class=\"table-data-header\">Point Grey Grasshopper2 14S5C</td><td class=\"table-data\"><table class=\"matrix-table\"><tr class=\"matrix-row\"><td class=\"matrix-column\"> 0.6492344690</td><td class=\"matrix-column\"> 0.2782016831</td><td class=\"matrix-column\"> 0.1796929880</td></tr><tr class=\"matrix-row\"><td class=\"matrix-column\"> 0.0478988060</td><td class=\"matrix-column\"> 1.0257713015</td><td class=\"matrix-column\">-0.1038102072</td></tr><tr class=\"matrix-row\"><td class=\"matrix-column\"> 0.1456900641</td><td class=\"matrix-column\">-0.2867941094</td><td class=\"matrix-column\"> 1.2915519401</td></tr></table></td></tr><tr class=\"table-row \"><td class=\"table-data-header\">SONY NEX-5N</td><td class=\"table-data\"><table class=\"matrix-table\"><tr class=\"matrix-row\"><td class=\"matrix-column\"> 0.6794700797</td><td class=\"matrix-column\"> 0.1541866791</td><td class=\"matrix-column\"> 0.1000398818</td></tr><tr class=\"matrix-row\"><td class=\"matrix-column\"> 0.1308609208</td><td class=\"matrix-column\"> 0.9715369686</td><td class=\"matrix-column\">-0.1912980182</td></tr><tr class=\"matrix-row\"><td class=\"matrix-column\"> 0.0890254166</td><td class=\"matrix-column\">-0.2565809670</td><td class=\"matrix-column\"> 1.1492244816</td></tr></table></td></tr><tr class=\"table-row table-row-odd\"><td class=\"table-data-header\">arri d21</td><td class=\"table-data\"><table class=\"matrix-table\"><tr class=\"matrix-row\"><td class=\"matrix-column\"> 1.0456954667</td><td class=\"matrix-column\">-0.2394157576</td><td class=\"matrix-column\"> 0.2478664052</td></tr><tr class=\"matrix-row\"><td class=\"matrix-column\"> 0.2094143002</td><td class=\"matrix-column\"> 0.9124337403</td><td class=\"matrix-column\">-0.0883655365</td></tr><tr class=\"matrix-row\"><td class=\"matrix-column\"> 0.0788209403</td><td class=\"matrix-column\">-0.6106989011</td><td class=\"matrix-column\"> 1.6601594393</td></tr></table></td></tr><tr class=\"table-row \"><td class=\"table-data-header\">canon eos 5d mark ii</td><td class=\"table-data\"><table class=\"matrix-table\"><tr class=\"matrix-row\"><td class=\"matrix-column\"> 0.9023062857</td><td class=\"matrix-column\">-0.0725253600</td><td class=\"matrix-column\"> 0.2208525212</td></tr><tr class=\"matrix-row\"><td class=\"matrix-column\"> 0.1416621818</td><td class=\"matrix-column\"> 1.0392375706</td><td class=\"matrix-column\">-0.1115240658</td></tr><tr class=\"matrix-row\"><td class=\"matrix-column\"> 0.1034981733</td><td class=\"matrix-column\">-0.2706191446</td><td class=\"matrix-column\"> 1.2642291369</td></tr></table></td></tr><tr class=\"table-row table-row-odd\"><td class=\"table-data-header\">canon powershot s90</td><td class=\"table-data\"><table class=\"matrix-table\"><tr class=\"matrix-row\"><td class=\"matrix-column\"> 0.6907052996</td><td class=\"matrix-column\"> 0.2932836443</td><td class=\"matrix-column\"> 0.1409781297</td></tr><tr class=\"matrix-row\"><td class=\"matrix-column\">-0.0841316425</td><td class=\"matrix-column\"> 1.3022820492</td><td class=\"matrix-column\">-0.2014990342</td></tr><tr class=\"matrix-row\"><td class=\"matrix-column\"> 0.1667087936</td><td class=\"matrix-column\">-0.4010661490</td><td class=\"matrix-column\"> 1.3753631022</td></tr></table></td></tr><tr class=\"table-row \"><td class=\"table-data-header\">canon xti</td><td class=\"table-data\"><table class=\"matrix-table\"><tr class=\"matrix-row\"><td class=\"matrix-column\"> 0.7145301544</td><td class=\"matrix-column\"> 0.1929157862</td><td class=\"matrix-column\"> 0.1571135559</td></tr><tr class=\"matrix-row\"><td class=\"matrix-column\"> 0.1495740970</td><td class=\"matrix-column\"> 1.0980294471</td><td class=\"matrix-column\">-0.1781830581</td></tr><tr class=\"matrix-row\"><td class=\"matrix-column\"> 0.0660404284</td><td class=\"matrix-column\">-0.2041319747</td><td class=\"matrix-column\"> 1.2147851267</td></tr></table></td></tr><tr class=\"table-row table-row-odd\"><td class=\"table-data-header\">nikon d200</td><td class=\"table-data\"><table class=\"matrix-table\"><tr class=\"matrix-row\"><td class=\"matrix-column\"> 0.7145218394</td><td class=\"matrix-column\"> 0.2442607898</td><td class=\"matrix-column\"> 0.1407441098</td></tr><tr class=\"matrix-row\"><td class=\"matrix-column\"> 0.1246157540</td><td class=\"matrix-column\"> 1.0180864260</td><td class=\"matrix-column\">-0.0929698384</td></tr><tr class=\"matrix-row\"><td class=\"matrix-column\"> 0.0875770620</td><td class=\"matrix-column\">-0.1776710261</td><td class=\"matrix-column\"> 1.1763318170</td></tr></table></td></tr><tr class=\"table-row \"><td class=\"table-data-header\">nikon d5100</td><td class=\"table-data\"><table class=\"matrix-table\"><tr class=\"matrix-row\"><td class=\"matrix-column\"> 0.6007124959</td><td class=\"matrix-column\"> 0.2006760019</td><td class=\"matrix-column\"> 0.0884612667</td></tr><tr class=\"matrix-row\"><td class=\"matrix-column\"> 0.0717465245</td><td class=\"matrix-column\"> 0.9488061363</td><td class=\"matrix-column\">-0.1673500428</td></tr><tr class=\"matrix-row\"><td class=\"matrix-column\"> 0.0922043662</td><td class=\"matrix-column\">-0.2535712805</td><td class=\"matrix-column\"> 1.0603489669</td></tr></table></td></tr><tr class=\"table-row table-row-odd\"><td class=\"table-data-header\">nikon d70</td><td class=\"table-data\"><table class=\"matrix-table\"><tr class=\"matrix-row\"><td class=\"matrix-column\"> 0.5895918194</td><td class=\"matrix-column\"> 0.1587829059</td><td class=\"matrix-column\"> 0.1413395053</td></tr><tr class=\"matrix-row\"><td class=\"matrix-column\"> 0.1164078711</td><td class=\"matrix-column\"> 0.8322479371</td><td class=\"matrix-column\">-0.0914487140</td></tr><tr class=\"matrix-row\"><td class=\"matrix-column\"> 0.0602476487</td><td class=\"matrix-column\">-0.1376781354</td><td class=\"matrix-column\"> 0.9978566038</td></tr></table></td></tr><tr class=\"table-row \"><td class=\"table-data-header\">nikon d700</td><td class=\"table-data\"><table class=\"matrix-table\"><tr class=\"matrix-row\"><td class=\"matrix-column\"> 0.5811710791</td><td class=\"matrix-column\"> 0.1919254804</td><td class=\"matrix-column\"> 0.1049596418</td></tr><tr class=\"matrix-row\"><td class=\"matrix-column\"> 0.0907276384</td><td class=\"matrix-column\"> 0.8153602671</td><td class=\"matrix-column\">-0.0652199405</td></tr><tr class=\"matrix-row\"><td class=\"matrix-column\"> 0.0748630256</td><td class=\"matrix-column\">-0.1545261028</td><td class=\"matrix-column\"> 0.9631481322</td></tr></table></td></tr><tr class=\"table-row table-row-odd\"><td class=\"table-data-header\">nikon d7000</td><td class=\"table-data\"><table class=\"matrix-table\"><tr class=\"matrix-row\"><td class=\"matrix-column\"> 0.6293295447</td><td class=\"matrix-column\"> 0.1803470253</td><td class=\"matrix-column\"> 0.0846422204</td></tr><tr class=\"matrix-row\"><td class=\"matrix-column\"> 0.0798945891</td><td class=\"matrix-column\"> 0.9528671834</td><td class=\"matrix-column\">-0.1736335974</td></tr><tr class=\"matrix-row\"><td class=\"matrix-column\"> 0.0896921224</td><td class=\"matrix-column\">-0.2431568959</td><td class=\"matrix-column\"> 1.0578755735</td></tr></table></td></tr><tr class=\"table-row \"><td class=\"table-data-header\">sony ilce-7rm2</td><td class=\"table-data\"><table class=\"matrix-table\"><tr class=\"matrix-row\"><td class=\"matrix-column\"> 0.6584412453</td><td class=\"matrix-column\"> 0.1669786165</td><td class=\"matrix-column\"> 0.0881972652</td></tr><tr class=\"matrix-row\"><td class=\"matrix-column\"> 0.0790753814</td><td class=\"matrix-column\"> 0.9638215581</td><td class=\"matrix-column\">-0.1695755022</td></tr><tr class=\"matrix-row\"><td class=\"matrix-column\"> 0.0964943565</td><td class=\"matrix-column\">-0.2540625732</td><td class=\"matrix-column\"> 1.0915577723</td></tr></table></td></tr><tr class=\"table-row table-row-odd\"><td class=\"table-data-header\">sony ilce-7sm2</td><td class=\"table-data\"><table class=\"matrix-table\"><tr class=\"matrix-row\"><td class=\"matrix-column\"> 0.8148259888</td><td class=\"matrix-column\"> 0.0932643034</td><td class=\"matrix-column\"> 0.0345570592</td></tr><tr class=\"matrix-row\"><td class=\"matrix-column\"> 0.0099303171</td><td class=\"matrix-column\"> 1.1272612982</td><td class=\"matrix-column\">-0.2410027256</td></tr><tr class=\"matrix-row\"><td class=\"matrix-column\"> 0.1824977085</td><td class=\"matrix-column\">-0.4541278951</td><td class=\"matrix-column\"> 1.2587065361</td></tr></table></td></tr><tbody></table>"
            ],
            "text/plain": [
              "<IPython.core.display.HTML object>"
            ]
          },
          "metadata": {
            "tags": []
          },
          "execution_count": 12
        }
      ]
    },
    {
      "cell_type": "markdown",
      "metadata": {
        "id": "lupD8W_CwrIY",
        "colab_type": "text"
      },
      "source": [
        "## Camera Data Rendering"
      ]
    },
    {
      "cell_type": "code",
      "metadata": {
        "id": "wxKTUnNOwmYP",
        "colab_type": "code",
        "outputId": "155a1ead-0ff3-4e7e-eef3-223aaf8950f5",
        "colab": {
          "base_uri": "https://localhost:8080/",
          "height": 1000
        }
      },
      "source": [
        "XYZ_IMAGES = sorted(glob.glob('{0}/*_XYZ.exr'.format(\n",
        "    '{0}/images'.format(OUTPUT_DIRECTORY))))\n",
        "\n",
        "\n",
        "XYZ_IMAGE_TO_CAMERA_NAME = {}\n",
        "for image in XYZ_IMAGES:\n",
        "    for sluggified_camera_name in SLUGGIFIED_CAMERA_NAMES:\n",
        "        if sluggified_camera_name in image:\n",
        "            XYZ_IMAGE_TO_CAMERA_NAME[image] = (\n",
        "                SLUGGIFIED_CAMERA_NAMES[sluggified_camera_name])\n",
        "            break\n",
        "\n",
        "\n",
        "def render_mitsuba_image(\n",
        "        XYZ_image,\n",
        "        title,\n",
        "        idt_matrix=None,\n",
        "        working_RGB_colourspace=colour.RGB_COLOURSPACES['ACES2065-1'],\n",
        "        display_RGB_colourspace=colour.RGB_COLOURSPACES['sRGB'],\n",
        "        chromaticity_diagram_RGB_colourspaces=['ACES2065-1', 'ACEScg'],\n",
        "        RGB_chromaticities_in_chromaticity_diagram_callable=(\n",
        "            colour.plotting.plot_RGB_chromaticities_in_chromaticity_diagram_CIE1976UCS),\n",
        "        normalisation_region=(slice(490, 522, 1), slice(530, 562, 1))):\n",
        "\n",
        "    XYZ = colour.read_image(XYZ_image)\n",
        "\n",
        "    if idt_matrix is not None:\n",
        "        RGB_W = colour.utilities.dot_vector(idt_matrix, XYZ)\n",
        "    else:\n",
        "        RGB_W = colour.XYZ_to_RGB(\n",
        "            XYZ,\n",
        "            working_RGB_colourspace.whitepoint,\n",
        "            working_RGB_colourspace.whitepoint,\n",
        "            working_RGB_colourspace.XYZ_to_RGB_matrix\n",
        "        )\n",
        "\n",
        "    RGB_N = np.mean(\n",
        "        RGB_W[normalisation_region].reshape([-1, 3]), axis=0)\n",
        "    Y = colour.RGB_luminance(\n",
        "        RGB_N,\n",
        "        working_RGB_colourspace.primaries,\n",
        "        working_RGB_colourspace.whitepoint)\n",
        "    \n",
        "    RGB_W /= Y\n",
        "    RGB_W *= 0.19\n",
        "\n",
        "    colour.write_image(\n",
        "        RGB_W,\n",
        "        XYZ_image.replace('_XYZ.exr', '_RGB_W.exr'))\n",
        "\n",
        "    RGB_D = colour.RGB_to_RGB(\n",
        "        RGB_W,\n",
        "        working_RGB_colourspace,\n",
        "        display_RGB_colourspace)\n",
        "    \n",
        "    colour.write_image(\n",
        "        RGB_D,\n",
        "        XYZ_image.replace('_XYZ.exr', '_RGB_D.exr'))\n",
        "\n",
        "    colour.plotting.plot_image(colour.cctf_encoding(RGB_D))\n",
        "    RGB_chromaticities_in_chromaticity_diagram_callable(\n",
        "        RGB_D,\n",
        "        colourspaces=chromaticity_diagram_RGB_colourspaces,\n",
        "        diagram_opacity=0.25,\n",
        "        title=title,\n",
        "        scatter_kwargs={'s': 15},\n",
        "        filename=XYZ_image.replace('_XYZ.exr', '_Diagram.png'))\n",
        "\n",
        "\n",
        "for image in XYZ_IMAGES:\n",
        "    if 'CIE_1931_2_Degree_Standard_Observer' in image:\n",
        "        render_mitsuba_image(image, CMFS.name)\n",
        "    else:\n",
        "        camera_name = XYZ_IMAGE_TO_CAMERA_NAME[image]\n",
        "        render_mitsuba_image(image, camera_name, M_IDT[camera_name])"
      ],
      "execution_count": 0,
      "outputs": []
    },
    {
      "cell_type": "markdown",
      "metadata": {
        "id": "a6cpapdV103N",
        "colab_type": "text"
      },
      "source": [
        "## Served Content"
      ]
    },
    {
      "cell_type": "code",
      "metadata": {
        "id": "samjgMow1mML",
        "colab_type": "code",
        "outputId": "241bc7da-1e3d-4ad3-82ae-5e93694431ce",
        "colab": {
          "base_uri": "https://localhost:8080/",
          "height": 17
        }
      },
      "source": [
        "JS_JERI_CAMERA_DATA_TEMPLATE = \"\"\"\n",
        "const cameraData = {{\n",
        "    title: 'root',\n",
        "    children: [{camera_data}\n",
        "    ]\n",
        "}};\"\"\"[1:]\n",
        "\n",
        "JS_JERI_CAMERA_TEMPLATE = \"\"\"\n",
        "{{\n",
        "    title: '{camera_name}',\n",
        "    children: [\n",
        "        {{\n",
        "            title: 'Render',\n",
        "            image: 'images/{camera_image}',\n",
        "        }},\n",
        "        {{\n",
        "            title: 'MRSE',\n",
        "            lossMap: {{\n",
        "                'function': 'MRSE',\n",
        "                imageA: 'images/{observer_image}',\n",
        "                imageB: 'images/{camera_image}'\n",
        "            }}\n",
        "        }},\n",
        "        {{\n",
        "            title: 'CIE 1976 UCS Chromaticity Diagram',\n",
        "            image: 'images/{diagram_image}',\n",
        "        }}\n",
        "    ]\n",
        "}},\"\"\"\n",
        "    \n",
        "\n",
        "def generate_js_camera_payload(XYZ_images, output_directory=OUTPUT_DIRECTORY):\n",
        "    observer_image = None\n",
        "    for image in XYZ_images:\n",
        "        if 'CIE_1931_2_Degree_Standard_Observer' in image:\n",
        "            observer_image = os.path.basename(image)\n",
        "            break\n",
        "\n",
        "    camera_data = textwrap.indent(JS_JERI_CAMERA_TEMPLATE.format(\n",
        "        **{\n",
        "            'camera_name': 'Observer',\n",
        "            'camera_image': observer_image.replace('_XYZ.exr', '_RGB_D.exr'),\n",
        "            'observer_image': observer_image,\n",
        "            'diagram_image': observer_image.replace('_XYZ.exr', '_Diagram.png'),\n",
        "        }), 8 * ' ')\n",
        "\n",
        "    for image in XYZ_images:\n",
        "        if 'CIE_1931_2_Degree_Standard_Observer' in image:\n",
        "            continue\n",
        "\n",
        "        camera_image = os.path.basename(image)\n",
        "        camera_data += textwrap.indent(JS_JERI_CAMERA_TEMPLATE.format(\n",
        "            **{\n",
        "                'camera_name': XYZ_IMAGE_TO_CAMERA_NAME[image],\n",
        "                'camera_image': camera_image.replace('_XYZ.exr', '_RGB_D.exr'),\n",
        "                'observer_image': observer_image,\n",
        "                'diagram_image': camera_image.replace('_XYZ.exr', '_Diagram.png'),\n",
        "            }), 8 * ' ')\n",
        "\n",
        "    with open('{0}/mitsuba-cornell-box-rigid-spheres.js'.format(\n",
        "        output_directory), 'w') as js_camera_payload:\n",
        "        js_camera_payload.write(\n",
        "            JS_JERI_CAMERA_DATA_TEMPLATE.format(\n",
        "                **{'camera_data': camera_data}))\n",
        "        \n",
        "generate_js_camera_payload(XYZ_IMAGES)"
      ],
      "execution_count": 0,
      "outputs": [
        {
          "output_type": "display_data",
          "data": {
            "text/html": [
              "\n",
              "<style>\n",
              "    body {\n",
              "        background-color: white !important;\n",
              "    }\n",
              "\n",
              "    .table, .matrix-table {\n",
              "        width: 100%\n",
              "    }\n",
              "\n",
              "    .table-row-header, .table-data-header {\n",
              "        background-color: #aaa !important;\n",
              "        color: #fff !important;\n",
              "        font-weight: bold !important;\n",
              "        text-align: center\n",
              "    }\n",
              "\n",
              "    .vertical-align-top {\n",
              "        vertical-align: top\n",
              "    }\n",
              "\n",
              "    .text-align-center {\n",
              "        text-align: center\n",
              "    }\n",
              "\n",
              "    .table-row-odd {\n",
              "        background-color: #eee !important;\n",
              "    }\n",
              "\n",
              "    .matrix-table, .matrix-row, .matrix-column {\n",
              "        border: none\n",
              "        text-align: center\n",
              "    }\n",
              "\n",
              "    .table, .table-canton, .table-row-header-group, .table-row-header, .table-data-header, .table-row, .table-data {\n",
              "        border-color: #fff\n",
              "    }\n",
              "</style>\n"
            ],
            "text/plain": [
              "<IPython.core.display.HTML object>"
            ]
          },
          "metadata": {
            "tags": []
          }
        }
      ]
    }
  ]
}