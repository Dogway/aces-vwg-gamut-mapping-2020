{
  "nbformat": 4,
  "nbformat_minor": 0,
  "metadata": {
    "colab": {
      "name": "gamut_compress_defaults_new_distance_limit_method.ipynb",
      "provenance": [],
      "collapsed_sections": [],
      "toc_visible": true
    },
    "kernelspec": {
      "name": "python3",
      "display_name": "Python 3"
    }
  },
  "cells": [
    {
      "cell_type": "markdown",
      "metadata": {
        "id": "nP-x7mebWWOA",
        "colab_type": "text"
      },
      "source": [
        "# Set up Colour Science for Python with latest `develop` branch"
      ]
    },
    {
      "cell_type": "code",
      "metadata": {
        "id": "UlCRUQswC3KF",
        "colab_type": "code",
        "colab": {
          "base_uri": "https://localhost:8080/",
          "height": 748
        },
        "outputId": "a13e51c1-b797-47a1-b923-d8f01dee660d"
      },
      "source": [
        "!pip install -q colour-science\n",
        "\n",
        "!pip uninstall -y colour-science\n",
        "!if ! [ -d \"colour\" ]; then git clone https://github.com/colour-science/colour; fi\n",
        "!if [ -d \"colour\" ]; then cd colour && git fetch && git checkout develop && cd ..; fi\n",
        "\n",
        "import sys\n",
        "sys.path.append('colour')\n",
        "\n",
        "import colour\n",
        "colour.utilities.describe_environment()"
      ],
      "execution_count": 2,
      "outputs": [
        {
          "output_type": "stream",
          "text": [
            "\u001b[K     |████████████████████████████████| 1.6MB 2.9MB/s \n",
            "\u001b[?25hUninstalling colour-science-0.3.15:\n",
            "  Successfully uninstalled colour-science-0.3.15\n",
            "Cloning into 'colour'...\n",
            "remote: Enumerating objects: 270, done.\u001b[K\n",
            "remote: Counting objects: 100% (270/270), done.\u001b[K\n",
            "remote: Compressing objects: 100% (186/186), done.\u001b[K\n",
            "remote: Total 45133 (delta 170), reused 180 (delta 84), pack-reused 44863\u001b[K\n",
            "Receiving objects: 100% (45133/45133), 110.60 MiB | 32.13 MiB/s, done.\n",
            "Resolving deltas: 100% (34504/34504), done.\n",
            "Already on 'develop'\n",
            "Your branch is up to date with 'origin/develop'.\n",
            "===============================================================================\n",
            "*                                                                             *\n",
            "*   Interpreter :                                                             *\n",
            "*       python : 3.6.9 (default, Jul 17 2020, 12:50:27)                       *\n",
            "*                [GCC 8.4.0]                                                  *\n",
            "*                                                                             *\n",
            "*   colour-science.org :                                                      *\n",
            "*       colour : v0.3.15-370-g1317e9df                                        *\n",
            "*                                                                             *\n",
            "*   Runtime :                                                                 *\n",
            "*       imageio : 2.4.1                                                       *\n",
            "*       matplotlib : 3.2.2                                                    *\n",
            "*       networkx : 2.5                                                        *\n",
            "*       numpy : 1.18.5                                                        *\n",
            "*       pandas : 1.0.5                                                        *\n",
            "*       scipy : 1.4.1                                                         *\n",
            "*       six : 1.15.0                                                          *\n",
            "*                                                                             *\n",
            "===============================================================================\n"
          ],
          "name": "stdout"
        },
        {
          "output_type": "execute_result",
          "data": {
            "text/plain": [
              "defaultdict(collections.OrderedDict,\n",
              "            {'Interpreter': OrderedDict([('python',\n",
              "                           '3.6.9 (default, Jul 17 2020, 12:50:27) \\n[GCC 8.4.0]')]),\n",
              "             'Runtime': OrderedDict([('imageio', '2.4.1'),\n",
              "                          ('matplotlib', '3.2.2'),\n",
              "                          ('networkx', '2.5'),\n",
              "                          ('numpy', '1.18.5'),\n",
              "                          ('pandas', '1.0.5'),\n",
              "                          ('scipy', '1.4.1'),\n",
              "                          ('six', '1.15.0')]),\n",
              "             'colour-science.org': OrderedDict([('colour',\n",
              "                           'v0.3.15-370-g1317e9df')])})"
            ]
          },
          "metadata": {
            "tags": []
          },
          "execution_count": 2
        }
      ]
    },
    {
      "cell_type": "markdown",
      "metadata": {
        "id": "AFjVUDozXPXM",
        "colab_type": "text"
      },
      "source": [
        "# Define Blackmagic Wide Gamut v4 colour space\n",
        "# (not currently included in Colour)"
      ]
    },
    {
      "cell_type": "code",
      "metadata": {
        "id": "XEdXherNWrXK",
        "colab_type": "code",
        "colab": {}
      },
      "source": [
        "import numpy as np\n",
        "\n",
        "import colour\n",
        "from colour.models import (\n",
        "                           RGB_Colourspace,\n",
        "                           normalised_primary_matrix\n",
        "                          )\n",
        "from colour.colorimetry import CCS_ILLUMINANTS\n",
        "\n",
        "BMD_WIDE_GAMUT_V4_PRIMARIES = np.array([\n",
        "    [0.7177, 0.3171],\n",
        "    [0.2280, 0.8616],\n",
        "    [0.1006, -0.0820],\n",
        "])\n",
        "\"\"\"\n",
        "*BMD Wide Gamut V4* colourspace primaries.\n",
        "As displayed on DaVinci Resolve Chromaticity scope.\n",
        "\n",
        "BMD_WIDE_GAMUT_V4_PRIMARIES : ndarray, (3, 2)\n",
        "\"\"\"\n",
        "\n",
        "BMD_WIDE_GAMUT_V4_WHITEPOINT_NAME = 'D65'\n",
        "\"\"\"\n",
        "*BMD Wide Gamut V4* colourspace whitepoint name.\n",
        "\n",
        "BMD_WIDE_GAMUT_V4_WHITEPOINT : unicode\n",
        "\"\"\"\n",
        "\n",
        "BMD_WIDE_GAMUT_V4_WHITEPOINT = (CCS_ILLUMINANTS[\n",
        "    'CIE 1931 2 Degree Standard Observer'][BMD_WIDE_GAMUT_V4_WHITEPOINT_NAME])\n",
        "\"\"\"\n",
        "*BMD Wide Gamut V4* colourspace whitepoint.\n",
        "\n",
        "BMD_WIDE_GAMUT_V4_WHITEPOINT : ndarray\n",
        "\"\"\"\n",
        "\n",
        "BMD_WIDE_GAMUT_V4_TO_XYZ_MATRIX = (normalised_primary_matrix(\n",
        "    BMD_WIDE_GAMUT_V4_PRIMARIES, BMD_WIDE_GAMUT_V4_WHITEPOINT))\n",
        "\"\"\"\n",
        "*BMD Wide Gamut V4* colourspace to *CIE XYZ* tristimulus values matrix.\n",
        "\n",
        "BMD_WIDE_GAMUT_V4_TO_XYZ_MATRIX : array_like, (3, 3)\n",
        "\"\"\"\n",
        "\n",
        "XYZ_TO_BMD_WIDE_GAMUT_V4_MATRIX = (\n",
        "    np.linalg.inv(BMD_WIDE_GAMUT_V4_TO_XYZ_MATRIX))\n",
        "\"\"\"\n",
        "*CIE XYZ* tristimulus values to *BMD Wide Gamut V4* colourspace matrix.\n",
        "\n",
        "XYZ_TO_BMD_WIDE_GAMUT_V4_MATRIX : array_like, (3, 3)\n",
        "\"\"\"\n",
        "\n",
        "RGB_COLOURSPACE_BMD_WIDE_GAMUT_V4 = RGB_Colourspace(\n",
        "    'BMD Wide Gamut V4',\n",
        "    BMD_WIDE_GAMUT_V4_PRIMARIES,\n",
        "    BMD_WIDE_GAMUT_V4_WHITEPOINT,\n",
        "    BMD_WIDE_GAMUT_V4_WHITEPOINT_NAME,\n",
        "    BMD_WIDE_GAMUT_V4_TO_XYZ_MATRIX,\n",
        "    XYZ_TO_BMD_WIDE_GAMUT_V4_MATRIX,\n",
        ")"
      ],
      "execution_count": 3,
      "outputs": []
    },
    {
      "cell_type": "markdown",
      "metadata": {
        "id": "qo0_9YCJXOLw",
        "colab_type": "text"
      },
      "source": [
        "# Thresholds\n",
        "Calculate `thresholds` to protect ColorChecker 24"
      ]
    },
    {
      "cell_type": "code",
      "metadata": {
        "id": "bCukamO6DOsF",
        "colab_type": "code",
        "colab": {
          "base_uri": "https://localhost:8080/",
          "height": 51
        },
        "outputId": "8a1eff8c-1ae3-4701-d449-1f78df8c89eb"
      },
      "source": [
        "from __future__ import division\n",
        "\n",
        "import warnings\n",
        "\n",
        "from colour.models import (\n",
        "                           RGB_to_RGB,\n",
        "                           RGB_COLOURSPACE_ACES2065_1,\n",
        "                           RGB_COLOURSPACE_ACESCG,\n",
        "                           RGB_COLOURSPACE_ALEXA_WIDE_GAMUT,\n",
        "                           RGB_COLOURSPACE_CINEMA_GAMUT,\n",
        "                           RGB_COLOURSPACE_RED_WIDE_GAMUT_RGB,\n",
        "                           RGB_COLOURSPACE_S_GAMUT3,\n",
        "                           RGB_COLOURSPACE_VENICE_S_GAMUT3,\n",
        "                           RGB_COLOURSPACE_V_GAMUT\n",
        "                          )\n",
        "from colour.utilities import tsplit, tstack, dot_vector\n",
        "\n",
        "# ColorChecker 24 values as per SMPTE 2065-1\n",
        "CC24 = np.array([[0.11877, 0.08709, 0.05895],\n",
        "                 [0.40002, 0.31916, 0.23736],\n",
        "                 [0.18476, 0.20398, 0.31311],\n",
        "                 [0.10901, 0.13511, 0.06493],\n",
        "                 [0.26684, 0.24604, 0.40932],\n",
        "                 [0.32283, 0.46208, 0.40606],\n",
        "                 [0.38605, 0.22743, 0.05777],\n",
        "                 [0.13822, 0.13037, 0.33703],\n",
        "                 [0.30202, 0.13752, 0.12758],\n",
        "                 [0.09310, 0.06347, 0.13525],\n",
        "                 [0.34876, 0.43654, 0.10613],\n",
        "                 [0.48655, 0.36685, 0.08061],\n",
        "                 [0.08732, 0.07443, 0.27274],\n",
        "                 [0.15366, 0.25692, 0.09071],\n",
        "                 [0.21742, 0.07070, 0.05130],\n",
        "                 [0.58919, 0.53943, 0.09157],\n",
        "                 [0.30904, 0.14818, 0.27426],\n",
        "                 [0.14901, 0.23378, 0.35939]])\n",
        "\n",
        "CC24_AP1 = RGB_to_RGB(CC24, RGB_COLOURSPACE_ACES2065_1, RGB_COLOURSPACE_ACESCG)\n",
        "\n",
        "ach = np.max(CC24_AP1, axis=-1)[..., np.newaxis]\n",
        "dist = ((ach - CC24_AP1) / ach)\n",
        "c, m, y = tsplit(dist)\n",
        "\n",
        "print('Thresholds:')\n",
        "print(np.max(c), np.max(m), np.max(y))"
      ],
      "execution_count": 5,
      "outputs": [
        {
          "output_type": "stream",
          "text": [
            "Thresholds:\n",
            "0.814546172832 0.802945634483 0.87963185306\n"
          ],
          "name": "stdout"
        }
      ]
    },
    {
      "cell_type": "markdown",
      "metadata": {
        "id": "Rok6XJ-ZY_Xt",
        "colab_type": "text"
      },
      "source": [
        "# Distance Limits\n",
        "Calculate `distances` to map common camera encoding spaces to within AP1"
      ]
    },
    {
      "cell_type": "code",
      "metadata": {
        "id": "2-4jmmBKZJg8",
        "colab_type": "code",
        "colab": {
          "base_uri": "https://localhost:8080/",
          "height": 68
        },
        "outputId": "ca3d9312-8f21-40fe-a4de-31e38a185573"
      },
      "source": [
        "maxLimits = np.array([[-1.0,  1.0,  1.0],\n",
        "                      [ 1.0, -1.0,  1.0],\n",
        "                      [ 1.0,  1.0, -1.0]])\n",
        "\n",
        "spaces = [[RGB_COLOURSPACE_ALEXA_WIDE_GAMUT, 'CAT02'],\n",
        "          [RGB_COLOURSPACE_BMD_WIDE_GAMUT_V4, 'Bradford'],\n",
        "          [RGB_COLOURSPACE_CINEMA_GAMUT, 'CAT02'],\n",
        "          [RGB_COLOURSPACE_RED_WIDE_GAMUT_RGB, 'Bradford'],\n",
        "          [RGB_COLOURSPACE_S_GAMUT3, 'CAT02'],\n",
        "          [RGB_COLOURSPACE_VENICE_S_GAMUT3, 'CAT02'],\n",
        "          [RGB_COLOURSPACE_V_GAMUT, 'CAT02']]\n",
        "\n",
        "bounds = []\n",
        "\n",
        "\n",
        "for space, cat in spaces:\n",
        "    vendorRGB = RGB_to_RGB(maxLimits,\n",
        "                           RGB_COLOURSPACE_ACESCG,\n",
        "                           space,\n",
        "                           chromatic_adaptation_transform=cat)\n",
        "    vendorHSV = colour.RGB_to_HSV(vendorRGB)\n",
        "\n",
        "    for hsv in vendorHSV:\n",
        "        hsv[1] = min(1.0, hsv[1])\n",
        "\n",
        "    vendorRGB = colour.HSV_to_RGB(vendorHSV)\n",
        "\n",
        "    bounds.append(RGB_to_RGB(vendorRGB,\n",
        "                        space,\n",
        "                        RGB_COLOURSPACE_ACESCG,\n",
        "                        chromatic_adaptation_transform=cat))\n",
        "\n",
        "ach = np.max(bounds, axis=-1)[..., np.newaxis]\n",
        "dist = np.where(ach == 0.0, 0.0, (ach - bounds) / ach)\n",
        "\n",
        "c, m, y = tsplit(dist)\n",
        "\n",
        "print('\\nDistance Limits:')\n",
        "print(np.max(c) - 1, np.max(m) - 1, np.max(y) - 1)\n"
      ],
      "execution_count": 9,
      "outputs": [
        {
          "output_type": "stream",
          "text": [
            "\n",
            "Distance Limits:\n",
            "0.147282233491 0.264290310772 0.312377540725\n"
          ],
          "name": "stdout"
        }
      ]
    }
  ]
}